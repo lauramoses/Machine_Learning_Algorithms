{
 "cells": [
  {
   "cell_type": "markdown",
   "metadata": {},
   "source": [
    "# Classification Tree on Implementation on Titanic Data\n",
    "\n",
    "By: Laura Moses\n",
    "\n",
    "---\n",
    "\n",
    "## Definition\n",
    "\n",
    "In decision anaylsis, a **decision tree** can be used to visually and explicitly represent decisions and decesion making. Decision trees can be used for **classification** or **regression**. In this notebook, we will be using a **classification tree** in order to predict the target variable `survived`, whether or not a passenger survived the Titanic crash. Decision trees uses a tree-like model of decisions to make predictions. Growing a tree involves deciding on which features to choose and what conditions to use for splitting, along with knowing when to stop as to not *overfit* the data, thus a trim process is needed.\n",
    "\n",
    "---\n",
    "\n",
    "The following packages will be needed to run this notebook: \n",
    "\n",
    "* `numpy` [documentation](https://numpy.org/doc/)\n",
    "* `pandas` [documentation](https://pandas.pydata.org/docs/)\n",
    "* `sklearn` [documentation](https://scikit-learn.org/stable/)\n",
    "\n",
    "The following data is used in this notebook:\n",
    "* Titanic [available here](https://data.world/nrippner/titanic-disaster-dataset#__sid=js0)\n",
    "\n",
    "---"
   ]
  },
  {
   "cell_type": "markdown",
   "metadata": {},
   "source": [
    "---\n",
    "\n",
    "### Import Libraries and Modules\n",
    "\n",
    "---"
   ]
  },
  {
   "cell_type": "code",
   "execution_count": 1,
   "metadata": {},
   "outputs": [],
   "source": [
    "# Import libraries\n",
    "import numpy as np\n",
    "import pandas as pd \n",
    "\n",
    "from sklearn.model_selection import train_test_split\n",
    "from sklearn import tree\n",
    "from sklearn.tree import DecisionTreeClassifier\n",
    "from sklearn.metrics import accuracy_score"
   ]
  },
  {
   "cell_type": "markdown",
   "metadata": {},
   "source": [
    "---\n",
    "\n",
    "### Data Exploration and Preprocessing\n",
    "\n",
    "---"
   ]
  },
  {
   "cell_type": "code",
   "execution_count": 2,
   "metadata": {},
   "outputs": [],
   "source": [
    "# Read in data\n",
    "titanic = pd.read_csv(\"titanic.csv\")"
   ]
  },
  {
   "cell_type": "code",
   "execution_count": 3,
   "metadata": {},
   "outputs": [
    {
     "name": "stdout",
     "output_type": "stream",
     "text": [
      "<class 'pandas.core.frame.DataFrame'>\n",
      "RangeIndex: 1310 entries, 0 to 1309\n",
      "Data columns (total 14 columns):\n",
      " #   Column     Non-Null Count  Dtype  \n",
      "---  ------     --------------  -----  \n",
      " 0   pclass     1309 non-null   float64\n",
      " 1   survived   1309 non-null   float64\n",
      " 2   name       1309 non-null   object \n",
      " 3   sex        1309 non-null   object \n",
      " 4   age        1046 non-null   float64\n",
      " 5   sibsp      1309 non-null   float64\n",
      " 6   parch      1309 non-null   float64\n",
      " 7   ticket     1309 non-null   object \n",
      " 8   fare       1308 non-null   float64\n",
      " 9   cabin      295 non-null    object \n",
      " 10  embarked   1307 non-null   object \n",
      " 11  boat       486 non-null    object \n",
      " 12  body       121 non-null    float64\n",
      " 13  home.dest  745 non-null    object \n",
      "dtypes: float64(7), object(7)\n",
      "memory usage: 143.4+ KB\n"
     ]
    }
   ],
   "source": [
    "# Check data types and non-null counts \n",
    "titanic.info()"
   ]
  },
  {
   "cell_type": "markdown",
   "metadata": {},
   "source": [
    "---\n",
    "\n",
    "We can see that there are quite a bit of floats and object types we will need to convert to integers or numeric types. \n",
    "\n",
    "---"
   ]
  },
  {
   "cell_type": "code",
   "execution_count": 4,
   "metadata": {
    "scrolled": true
   },
   "outputs": [
    {
     "data": {
      "text/plain": [
       "pclass          1\n",
       "survived        1\n",
       "name            1\n",
       "sex             1\n",
       "age           264\n",
       "sibsp           1\n",
       "parch           1\n",
       "ticket          1\n",
       "fare            2\n",
       "cabin        1015\n",
       "embarked        3\n",
       "boat          824\n",
       "body         1189\n",
       "home.dest     565\n",
       "dtype: int64"
      ]
     },
     "execution_count": 4,
     "metadata": {},
     "output_type": "execute_result"
    }
   ],
   "source": [
    "# See if there are missing values \n",
    "titanic[:].isnull().sum()"
   ]
  },
  {
   "cell_type": "markdown",
   "metadata": {},
   "source": [
    "---\n",
    "\n",
    "#### Missing Data\n",
    "\n",
    "There appears to be a row of missing data, as well as 263 missing values for `age`, 1 value for `fare`, and 2 values for `embarked`. Because of the number of missing values, we will not be using `cabin`, `boat`, `body`, or `home.dest` data. In order keep the rest of the data, we will need to fill in missing data values. \n",
    "\n",
    "---"
   ]
  },
  {
   "cell_type": "code",
   "execution_count": 5,
   "metadata": {},
   "outputs": [],
   "source": [
    "# Choose features subset and label\n",
    "features = titanic[['pclass', 'sex', 'age', 'sibsp', 'parch', 'fare', 'embarked']]\n",
    "labels = titanic[['survived']]"
   ]
  },
  {
   "cell_type": "markdown",
   "metadata": {},
   "source": [
    "---\n",
    "\n",
    "#####  `age`\n",
    "\n",
    "In order to take care of missing values, we can create an array of random numbers computed based on the mean age and standard deviations to fill null values.\n",
    "\n",
    "---"
   ]
  },
  {
   "cell_type": "code",
   "execution_count": 6,
   "metadata": {},
   "outputs": [
    {
     "name": "stderr",
     "output_type": "stream",
     "text": [
      "C:\\Users\\laura\\Anaconda3\\lib\\site-packages\\ipykernel_launcher.py:12: SettingWithCopyWarning: \n",
      "A value is trying to be set on a copy of a slice from a DataFrame.\n",
      "Try using .loc[row_indexer,col_indexer] = value instead\n",
      "\n",
      "See the caveats in the documentation: https://pandas.pydata.org/pandas-docs/stable/user_guide/indexing.html#returning-a-view-versus-a-copy\n",
      "  if sys.path[0] == '':\n"
     ]
    }
   ],
   "source": [
    "# Fill missing values for age \n",
    "mean = features[\"age\"].mean() # compute mean\n",
    "std = features[\"age\"].std() # compute std\n",
    "is_null = features[\"age\"].isnull().sum()\n",
    "    \n",
    "# Compute random numbers between the mean, std and is_null\n",
    "rand_age = np.random.randint(mean - std, mean + std, size = is_null)\n",
    "    \n",
    "# Fill NaN values in Age column with random values generated\n",
    "age_slice = features[\"age\"].copy()\n",
    "age_slice[np.isnan(age_slice)] = rand_age\n",
    "features[\"age\"] = age_slice"
   ]
  },
  {
   "cell_type": "markdown",
   "metadata": {},
   "source": [
    "---\n",
    "\n",
    "#####  `fare`\n",
    "\n",
    "We will assign `0` to the missing value of `fare`.\n",
    "\n",
    "---"
   ]
  },
  {
   "cell_type": "code",
   "execution_count": 7,
   "metadata": {},
   "outputs": [
    {
     "name": "stderr",
     "output_type": "stream",
     "text": [
      "C:\\Users\\laura\\Anaconda3\\lib\\site-packages\\ipykernel_launcher.py:2: SettingWithCopyWarning: \n",
      "A value is trying to be set on a copy of a slice from a DataFrame.\n",
      "Try using .loc[row_indexer,col_indexer] = value instead\n",
      "\n",
      "See the caveats in the documentation: https://pandas.pydata.org/pandas-docs/stable/user_guide/indexing.html#returning-a-view-versus-a-copy\n",
      "  \n"
     ]
    }
   ],
   "source": [
    "# Fill in missing values for fare\n",
    "features['fare'] = features['fare'].fillna(0)"
   ]
  },
  {
   "cell_type": "markdown",
   "metadata": {},
   "source": [
    "---\n",
    "\n",
    "#####  `embarked`\n",
    "\n",
    "Because there are only two values missing, we will just fill these in with the most popular port. \n",
    "\n",
    "---"
   ]
  },
  {
   "cell_type": "code",
   "execution_count": 8,
   "metadata": {},
   "outputs": [
    {
     "name": "stderr",
     "output_type": "stream",
     "text": [
      "C:\\Users\\laura\\Anaconda3\\lib\\site-packages\\ipykernel_launcher.py:4: SettingWithCopyWarning: \n",
      "A value is trying to be set on a copy of a slice from a DataFrame.\n",
      "Try using .loc[row_indexer,col_indexer] = value instead\n",
      "\n",
      "See the caveats in the documentation: https://pandas.pydata.org/pandas-docs/stable/user_guide/indexing.html#returning-a-view-versus-a-copy\n",
      "  after removing the cwd from sys.path.\n"
     ]
    }
   ],
   "source": [
    "# Fill in missing values for embarked\n",
    "features['embarked'].describe() # check most popular\n",
    "top = 'S'\n",
    "features['embarked'] = features['embarked'].fillna(top)"
   ]
  },
  {
   "cell_type": "code",
   "execution_count": 9,
   "metadata": {},
   "outputs": [
    {
     "data": {
      "text/plain": [
       "pclass      0\n",
       "sex         0\n",
       "age         0\n",
       "sibsp       0\n",
       "parch       0\n",
       "fare        0\n",
       "embarked    0\n",
       "dtype: int64"
      ]
     },
     "execution_count": 9,
     "metadata": {},
     "output_type": "execute_result"
    }
   ],
   "source": [
    "# Now drop the one row of NA's in features\n",
    "features = features[:].dropna()\n",
    "features[:].isnull().sum()"
   ]
  },
  {
   "cell_type": "code",
   "execution_count": 10,
   "metadata": {},
   "outputs": [
    {
     "data": {
      "text/plain": [
       "survived    0\n",
       "dtype: int64"
      ]
     },
     "execution_count": 10,
     "metadata": {},
     "output_type": "execute_result"
    }
   ],
   "source": [
    "# Now drop the one row of NA's in labels\n",
    "labels = labels.dropna()\n",
    "labels.isnull().sum()"
   ]
  },
  {
   "cell_type": "markdown",
   "metadata": {},
   "source": [
    "---\n",
    "\n",
    "#### Convert Data Types\n",
    "\n",
    "---"
   ]
  },
  {
   "cell_type": "code",
   "execution_count": 11,
   "metadata": {},
   "outputs": [],
   "source": [
    "## Convert data types\n",
    "# Convert pclass to int64\n",
    "features['pclass'] = features['pclass'].astype(int)\n",
    "    \n",
    "# Convert sex to numeric \n",
    "genders = {\"male\": 0, \"female\": 1}\n",
    "features['sex'] = features['sex'].map(genders)\n",
    "\n",
    "# Convert age to float32\n",
    "features['age'] = features['age'].astype(float)\n",
    "\n",
    "# Convert sibsp to int64\n",
    "features['sibsp'] = features['sibsp'].astype(int)\n",
    "\n",
    "# Convert parch to int64\n",
    "features['parch'] = features['parch'].astype(int)\n",
    "\n",
    "# Convert fare to int64\n",
    "features['fare'] = features['fare'].astype(int)\n",
    "\n",
    "# Convert embarked to numeric\n",
    "ports = {\"S\": 0, \"C\": 1, \"Q\": 2}\n",
    "features['embarked'] = features['embarked'].map(ports)\n",
    "\n",
    "# Convert survived to int64\n",
    "labels['survived'] = labels['survived'].astype(int)"
   ]
  },
  {
   "cell_type": "code",
   "execution_count": 12,
   "metadata": {},
   "outputs": [
    {
     "name": "stdout",
     "output_type": "stream",
     "text": [
      "<class 'pandas.core.frame.DataFrame'>\n",
      "Int64Index: 1309 entries, 0 to 1308\n",
      "Data columns (total 7 columns):\n",
      " #   Column    Non-Null Count  Dtype  \n",
      "---  ------    --------------  -----  \n",
      " 0   pclass    1309 non-null   int32  \n",
      " 1   sex       1309 non-null   int64  \n",
      " 2   age       1309 non-null   float64\n",
      " 3   sibsp     1309 non-null   int32  \n",
      " 4   parch     1309 non-null   int32  \n",
      " 5   fare      1309 non-null   int32  \n",
      " 6   embarked  1309 non-null   int64  \n",
      "dtypes: float64(1), int32(4), int64(2)\n",
      "memory usage: 61.4 KB\n"
     ]
    }
   ],
   "source": [
    "features.info()"
   ]
  },
  {
   "cell_type": "code",
   "execution_count": 13,
   "metadata": {},
   "outputs": [
    {
     "name": "stdout",
     "output_type": "stream",
     "text": [
      "<class 'pandas.core.frame.DataFrame'>\n",
      "Int64Index: 1309 entries, 0 to 1308\n",
      "Data columns (total 1 columns):\n",
      " #   Column    Non-Null Count  Dtype\n",
      "---  ------    --------------  -----\n",
      " 0   survived  1309 non-null   int32\n",
      "dtypes: int32(1)\n",
      "memory usage: 15.3 KB\n"
     ]
    }
   ],
   "source": [
    "labels.info()"
   ]
  },
  {
   "cell_type": "markdown",
   "metadata": {},
   "source": [
    "---\n",
    "\n",
    "#### Catagorizing Data\n",
    "\n",
    "##### `age`: \n",
    "\n",
    "First it will need to be converted from float to int, then we will override the `age` feature with an age grouping instead. Then we will check the distribution to make sure no majority of the data falls into a single group. \n",
    "\n",
    "---"
   ]
  },
  {
   "cell_type": "code",
   "execution_count": 14,
   "metadata": {},
   "outputs": [
    {
     "data": {
      "text/plain": [
       "6    248\n",
       "4    238\n",
       "3    219\n",
       "5    195\n",
       "2    184\n",
       "1    134\n",
       "0     91\n",
       "Name: age, dtype: int64"
      ]
     },
     "execution_count": 14,
     "metadata": {},
     "output_type": "execute_result"
    }
   ],
   "source": [
    "# Age grouping\n",
    "features['age'] = features['age'].astype(int)\n",
    "features.loc[ features['age'] <= 11, 'age'] = 0\n",
    "features.loc[(features['age'] > 11) & (features['age'] <= 18), 'age'] = 1\n",
    "features.loc[(features['age'] > 18) & (features['age'] <= 22), 'age'] = 2\n",
    "features.loc[(features['age'] > 22) & (features['age'] <= 27), 'age'] = 3\n",
    "features.loc[(features['age'] > 27) & (features['age'] <= 33), 'age'] = 4\n",
    "features.loc[(features['age'] > 33) & (features['age'] <= 40), 'age'] = 5\n",
    "features.loc[(features['age'] > 40) & (features['age'] <= 66), 'age'] = 6\n",
    "features.loc[ features['age'] > 66, 'age'] = 6\n",
    "\n",
    "# let's see how it's distributed\n",
    "features['age'].value_counts()"
   ]
  },
  {
   "cell_type": "markdown",
   "metadata": {},
   "source": [
    "---\n",
    "\n",
    "### Build the Model\n",
    "\n",
    "---"
   ]
  },
  {
   "cell_type": "code",
   "execution_count": 16,
   "metadata": {},
   "outputs": [],
   "source": [
    "x_train, x_test, y_train, y_test = train_test_split(features, labels)"
   ]
  },
  {
   "cell_type": "code",
   "execution_count": 17,
   "metadata": {},
   "outputs": [
    {
     "name": "stdout",
     "output_type": "stream",
     "text": [
      "The decision tree predicted the survivors in the test set with 81.1% accuracy\n"
     ]
    }
   ],
   "source": [
    "# Create a decision tree with max 4 regions\n",
    "tree_clf = DecisionTreeClassifier(max_depth=4)\n",
    "\n",
    "# Train it using fit method\n",
    "tree_clf.fit(x_train, y_train)\n",
    "\n",
    "# Prediction\n",
    "y_pred = pd.DataFrame(tree_clf.predict(x_test))\n",
    "accuracy = accuracy_score(y_test, y_pred)\n",
    "print(\"The decision tree predicted the survivors in the test set with \", round(accuracy*100,2), \"% accuracy\", sep=\"\")"
   ]
  },
  {
   "cell_type": "code",
   "execution_count": 18,
   "metadata": {},
   "outputs": [
    {
     "data": {
      "text/plain": [
       "[Text(167.4, 195.696, 'X[1] <= 0.5\\ngini = 0.474\\nsamples = 981\\nvalue = [602, 379]'),\n",
       " Text(83.7, 152.208, 'X[0] <= 1.5\\ngini = 0.317\\nsamples = 638\\nvalue = [512, 126]'),\n",
       " Text(41.85, 108.72, 'X[2] <= 5.5\\ngini = 0.459\\nsamples = 137\\nvalue = [88, 49]'),\n",
       " Text(20.925, 65.232, 'X[5] <= 134.5\\ngini = 0.495\\nsamples = 73\\nvalue = [40, 33]'),\n",
       " Text(10.4625, 21.744, 'gini = 0.5\\nsamples = 62\\nvalue = [31, 31]'),\n",
       " Text(31.387500000000003, 21.744, 'gini = 0.298\\nsamples = 11\\nvalue = [9, 2]'),\n",
       " Text(62.775000000000006, 65.232, 'X[5] <= 31.5\\ngini = 0.375\\nsamples = 64\\nvalue = [48, 16]'),\n",
       " Text(52.3125, 21.744, 'gini = 0.483\\nsamples = 22\\nvalue = [13, 9]'),\n",
       " Text(73.2375, 21.744, 'gini = 0.278\\nsamples = 42\\nvalue = [35, 7]'),\n",
       " Text(125.55000000000001, 108.72, 'X[2] <= 0.5\\ngini = 0.26\\nsamples = 501\\nvalue = [424, 77]'),\n",
       " Text(104.625, 65.232, 'X[0] <= 2.5\\ngini = 0.492\\nsamples = 32\\nvalue = [18, 14]'),\n",
       " Text(94.16250000000001, 21.744, 'gini = 0.0\\nsamples = 9\\nvalue = [0, 9]'),\n",
       " Text(115.0875, 21.744, 'gini = 0.34\\nsamples = 23\\nvalue = [18, 5]'),\n",
       " Text(146.475, 65.232, 'X[6] <= 0.5\\ngini = 0.233\\nsamples = 469\\nvalue = [406, 63]'),\n",
       " Text(136.01250000000002, 21.744, 'gini = 0.207\\nsamples = 366\\nvalue = [323, 43]'),\n",
       " Text(156.9375, 21.744, 'gini = 0.313\\nsamples = 103\\nvalue = [83, 20]'),\n",
       " Text(251.10000000000002, 152.208, 'X[0] <= 2.5\\ngini = 0.387\\nsamples = 343\\nvalue = [90, 253]'),\n",
       " Text(209.25, 108.72, 'X[5] <= 26.5\\ngini = 0.102\\nsamples = 185\\nvalue = [10, 175]'),\n",
       " Text(188.32500000000002, 65.232, 'X[4] <= 0.5\\ngini = 0.224\\nsamples = 70\\nvalue = [9, 61]'),\n",
       " Text(177.8625, 21.744, 'gini = 0.291\\nsamples = 51\\nvalue = [9, 42]'),\n",
       " Text(198.7875, 21.744, 'gini = 0.0\\nsamples = 19\\nvalue = [0, 19]'),\n",
       " Text(230.175, 65.232, 'X[2] <= 0.5\\ngini = 0.017\\nsamples = 115\\nvalue = [1, 114]'),\n",
       " Text(219.7125, 21.744, 'gini = 0.245\\nsamples = 7\\nvalue = [1, 6]'),\n",
       " Text(240.63750000000002, 21.744, 'gini = 0.0\\nsamples = 108\\nvalue = [0, 108]'),\n",
       " Text(292.95, 108.72, 'X[5] <= 23.5\\ngini = 0.5\\nsamples = 158\\nvalue = [80, 78]'),\n",
       " Text(272.02500000000003, 65.232, 'X[5] <= 14.5\\ngini = 0.495\\nsamples = 136\\nvalue = [61, 75]'),\n",
       " Text(261.5625, 21.744, 'gini = 0.5\\nsamples = 98\\nvalue = [48, 50]'),\n",
       " Text(282.4875, 21.744, 'gini = 0.45\\nsamples = 38\\nvalue = [13, 25]'),\n",
       " Text(313.875, 65.232, 'X[4] <= 0.5\\ngini = 0.236\\nsamples = 22\\nvalue = [19, 3]'),\n",
       " Text(303.4125, 21.744, 'gini = 0.0\\nsamples = 1\\nvalue = [0, 1]'),\n",
       " Text(324.33750000000003, 21.744, 'gini = 0.172\\nsamples = 21\\nvalue = [19, 2]')]"
      ]
     },
     "execution_count": 18,
     "metadata": {},
     "output_type": "execute_result"
    },
    {
     "data": {
      "image/png": "[encoded data removed]",
      "text/plain": [
       "<Figure size 432x288 with 1 Axes>"
      ]
     },
     "metadata": {
      "needs_background": "light"
     },
     "output_type": "display_data"
    }
   ],
   "source": [
    "# Visualize tree above\n",
    "tree.plot_tree(tree_clf)"
   ]
  },
  {
   "cell_type": "markdown",
   "metadata": {},
   "source": [
    "---\n",
    "\n",
    "### Removing features\n",
    "\n",
    "Overfitting and having too many features can lead to issues in prediction accuracy for decision trees. So let's try removing `parch` as a feature, and seeing how it affects the accuracy. \n",
    "\n",
    "---"
   ]
  },
  {
   "cell_type": "code",
   "execution_count": 19,
   "metadata": {},
   "outputs": [],
   "source": [
    "# Let's try removing parch\n",
    "x_train2 = x_train.drop(['parch'], axis=1)\n",
    "x_test2 = x_test.drop(['parch'], axis=1)"
   ]
  },
  {
   "cell_type": "code",
   "execution_count": 20,
   "metadata": {},
   "outputs": [
    {
     "name": "stdout",
     "output_type": "stream",
     "text": [
      "The decision tree predicted the survivors in the test set with 81.4% accuracy\n"
     ]
    }
   ],
   "source": [
    "# Decision tree \n",
    "tree_clf = DecisionTreeClassifier(max_depth=4)\n",
    "\n",
    "# Train it using fit method\n",
    "tree_clf.fit(x_train2, y_train)\n",
    "\n",
    "# Prediction\n",
    "y_pred2 = pd.DataFrame(tree_clf.predict(x_test2))\n",
    "accuracy = accuracy_score(y_test, y_pred2)\n",
    "print(\"The decision tree predicted the survivors in the test set with \", round(accuracy*100,2), \"% accuracy\", sep=\"\")"
   ]
  },
  {
   "cell_type": "markdown",
   "metadata": {},
   "source": [
    "---\n",
    "\n",
    "### Conclusion\n",
    "\n",
    "Removing `parch` from the features and setting the `max_depth` to $4$ provides a $81.4\\%$ accuracy in correctly predicting Titanic survivors, which is a *slight* improvement over leaving it in. \n",
    "\n",
    "---"
   ]
  },
  {
   "cell_type": "code",
   "execution_count": null,
   "metadata": {},
   "outputs": [],
   "source": []
  }
 ],
 "metadata": {
  "kernelspec": {
   "display_name": "Python 3",
   "language": "python",
   "name": "python3"
  },
  "language_info": {
   "codemirror_mode": {
    "name": "ipython",
    "version": 3
   },
   "file_extension": ".py",
   "mimetype": "text/x-python",
   "name": "python",
   "nbconvert_exporter": "python",
   "pygments_lexer": "ipython3",
   "version": "3.7.6"
  }
 },
 "nbformat": 4,
 "nbformat_minor": 4
}
