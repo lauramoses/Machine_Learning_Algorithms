{
 "cells": [
  {
   "cell_type": "markdown",
   "metadata": {},
   "source": [
    "# Decision Trees\n",
    "\n"
   ]
  },
  {
   "cell_type": "code",
   "execution_count": null,
   "metadata": {},
   "outputs": [],
   "source": [
    "using Plots\n",
    "theme(:dark)"
   ]
  },
  {
   "cell_type": "code",
   "execution_count": null,
   "metadata": {},
   "outputs": [],
   "source": [
    "X = [(1.0, 2.0), (2.0, 1.0), (2.0, 4.0), (3.0, 1.0), (3.0, 2.0), (3.0, 3.0), \n",
    "        (4.0, 2.0), (4.0, 3.0), (4.0, 5.0), (5.0, 3.0), (6.0, 1.0), (6.0, 3.0),(6.0, 4.0)]\n",
    "y = [1, 1, 1, -1, -1, 1, -1, 1, 1, -1, -1, -1, 1];"
   ]
  },
  {
   "cell_type": "code",
   "execution_count": null,
   "metadata": {},
   "outputs": [],
   "source": [
    "plot(legend = false, xlim = (0, 7), ylim = (0, 6))\n",
    "for i = 1:length(X)\n",
    "    if y[i] == 1\n",
    "        scatter!([X[i]],\n",
    "        color = :red, \n",
    "        shape = :cross)\n",
    "    else\n",
    "        scatter!([X[i]], \n",
    "        color = :blue,\n",
    "        shape = :circle)\n",
    "    end\n",
    "end\n",
    "scatter!()"
   ]
  },
  {
   "cell_type": "code",
   "execution_count": null,
   "metadata": {},
   "outputs": [],
   "source": [
    "# Define indicator function \n",
    "I(x,y) = x != y ? 1.0 : 0.0\n",
    "\n",
    "# Define stump classifier\n",
    "c(x, j, θ) = x[j] > θ ? 1.0 : -1.0\n",
    "\n",
    "function train(X, w, y)\n",
    "    # Determine the number of data points\n",
    "    N = length(X)\n",
    "    \n",
    "    # Assign points as keys for both labels and weights\n",
    "    y_labels = Dict(X[i] => y[i] for i = 1:N)\n",
    "    w_labels = Dict(X[i] => w[i] for i = 1:N)\n",
    "    \n",
    "    # Will store cumulative sums in the following dictionary\n",
    "    cumulative_sums = Dict()\n",
    "    \n",
    "    # Copy X, since we do not want to modify X\n",
    "    X_temp = copy(X)\n",
    "    \n",
    "    \n",
    "    for i = 1:2 \n",
    "        sort!(X_temp, by = x -> x[i])\n",
    "        ith_cumulative_sum = []\n",
    "        \n",
    "        for j = 1:N\n",
    "            jth_cumulative_sum = sum(w_labels[X_temp[k]]*y_labels[X_temp[k]] for k = 1:j)\n",
    "            push!(ith_cumulative_sum, jth_cumulative_sum)\n",
    "        end\n",
    "        #println(ith_cumulative_sum)\n",
    "        cumulative_sums[i] = extrema(ith_cumulative_sum)\n",
    "    end\n",
    "\n",
    "    # Find the extrema for each of the ith entries\n",
    "    theta_vals = [maximum(abs.(cumulative_sums[i])) for i = 1:2]\n",
    "    \n",
    "    #println(theta_vals)\n",
    "    minimize = []\n",
    "    for j = 1:2\n",
    "        temp_val = sum(w_labels[X[i]]*I(y_labels[X[i]], c(X[i], j, theta_vals[j])) for i = 1:N)\n",
    "        push!(minimize, temp_val)\n",
    "    end\n",
    "    j = argmin(minimize)\n",
    "    θ = theta_vals[j]\n",
    "                            \n",
    "    return j, θ\n",
    "end"
   ]
  },
  {
   "cell_type": "code",
   "execution_count": null,
   "metadata": {},
   "outputs": [],
   "source": [
    "w = [1/length(X) for _ in 1:length(X)]\n",
    "j1, θ1 = train(X, w, y)"
   ]
  },
  {
   "cell_type": "code",
   "execution_count": null,
   "metadata": {},
   "outputs": [],
   "source": [
    "ϵ1 = sum(w[i]*I(y[i], c(X[i], j1, θ1)) for i = 1:length(X))/sum(w)"
   ]
  },
  {
   "cell_type": "code",
   "execution_count": null,
   "metadata": {},
   "outputs": [],
   "source": [
    "α1 = log((1-ϵ1)/ϵ1)"
   ]
  },
  {
   "cell_type": "code",
   "execution_count": null,
   "metadata": {},
   "outputs": [],
   "source": [
    "w = [w[i]*exp(α1*I(y[i], c(X[i], j1, θ1))) for i = 1:length(X)]"
   ]
  },
  {
   "cell_type": "code",
   "execution_count": null,
   "metadata": {},
   "outputs": [],
   "source": [
    "j2, θ2 = train(X, w, y)"
   ]
  },
  {
   "cell_type": "code",
   "execution_count": null,
   "metadata": {},
   "outputs": [],
   "source": [
    "ϵ2 = sum(w[i]*I(y[i], c(X[i], j2, θ2)) for i = 1:length(X))/sum(w)\n",
    "α2 = log((1-ϵ2)/ϵ2)\n",
    "w = [w[i]*exp(α2*I(y[i], c(X[i], j2, θ2))) for i = 1:length(X)]"
   ]
  },
  {
   "cell_type": "code",
   "execution_count": null,
   "metadata": {},
   "outputs": [],
   "source": [
    "j3, θ3 = train(X, w, y)\n",
    "ϵ3 = sum(w[i]*I(y[i], c(X[i], j3, θ3)) for i = 1:length(X))/sum(w)\n",
    "α3 = log((1-ϵ3)/ϵ3)\n",
    "w = [w[i]*exp(α3*I(y[i], c(X[i], j3, θ3))) for i = 1:length(X)]"
   ]
  },
  {
   "cell_type": "code",
   "execution_count": null,
   "metadata": {},
   "outputs": [],
   "source": [
    "j4, θ4 = train(X, w, y)\n",
    "ϵ4 = sum(w[i]*I(y[i], c(X[i], j4, θ4)) for i = 1:length(X))/sum(w)\n",
    "α4 = log((1-ϵ4)/ϵ4)\n",
    "w = [w[i]*exp(α4*I(y[i], c(X[i], j4, θ4))) for i = 1:length(X)]"
   ]
  },
  {
   "cell_type": "code",
   "execution_count": null,
   "metadata": {},
   "outputs": [],
   "source": [
    "j5, θ5 = train(X, w, y)\n",
    "ϵ5 = sum(w[i]*I(y[i], c(X[i], j5, θ5)) for i = 1:length(X))/sum(w)\n",
    "α5 = log((1-ϵ5)/ϵ5)\n",
    "w = [w[i]*exp(α5*I(y[i], c(X[i], j5, θ5))) for i = 1:length(X)]"
   ]
  },
  {
   "cell_type": "code",
   "execution_count": null,
   "metadata": {},
   "outputs": [],
   "source": [
    "plot!([(0.23076923076923078, 0.0), (0.23076923076923078, 7.0)])"
   ]
  }
 ],
 "metadata": {
  "kernelspec": {
   "display_name": "Julia 1.5.3",
   "language": "julia",
   "name": "julia-1.5"
  },
  "language_info": {
   "file_extension": ".jl",
   "mimetype": "application/julia",
   "name": "julia",
   "version": "1.5.3"
  }
 },
 "nbformat": 4,
 "nbformat_minor": 4
}
