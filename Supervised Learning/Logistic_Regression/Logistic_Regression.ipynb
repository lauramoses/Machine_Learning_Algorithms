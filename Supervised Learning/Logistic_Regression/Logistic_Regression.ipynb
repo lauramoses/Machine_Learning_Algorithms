{
 "cells": [
  {
   "cell_type": "markdown",
   "metadata": {},
   "source": [
    "---\n",
    "\n",
    "# Logistic Regression\n",
    "\n",
    "By: Laura Moses \n",
    "\n",
    "--- \n",
    "\n",
    "## Definition\n",
    "**Logistic Regression** is a supervised learning classification algorithm used to predict the probability of a target variable $y$. The nature of target or dependent variable is dichotomous, meaning there are only two possible classes. Thus, the target is binary, and represents either `1`, a success/yes/win, or `0`, a failure/no/loss. \n",
    "\n",
    "Mathematically, a logistic regression model predicts $P(Y=1)$ as a function of $X$. It is one of the simplest machine learning algorithms that can be used for various classification problems that involve detection.\n",
    "\n",
    "---\n",
    "\n",
    "### Assumptions\n",
    "\n",
    "* The target variable is binary, with the desired outcome represented by the factor level 1\n",
    "* There is no multi-collinearity present in the model\n",
    "* Model variables are meaningful\n",
    "* Large sample size \n",
    "\n",
    "---\n",
    "\n",
    "### Advantages \n",
    "\n",
    "* Simple algorithm\n",
    "* Useful for predicting \n",
    "\n",
    "---\n",
    "\n",
    "### Disadvantages\n",
    "\n",
    "* Adding independent variables to model can result in overfitting\n",
    "* R^2^ can have computation issues causing them to be artifically high or low, so must be mindful when interpreting goodness of fit\n",
    "\n",
    "---\n",
    "\n",
    "### Implementation\n",
    "\n",
    "We want to predict whether or not a student will be admitted to University A based off of their GMAT score and their GPA. \n",
    "\n",
    "<ins>Feed Forward</ins> (with a single neuron)\n",
    "$$\n",
    "(x^1, y^1),\\cdots,(x^N, y^N); \\space \\space\n",
    "x^i =  \n",
    " \\left[{\\begin{array}{c}\n",
    "student \\space i \\space GMAT \\space score \\\\\n",
    "student \\space i \\space GPA\n",
    " \\end{array}}\\right] \\\\\n",
    "y^i \\in \\{0,1\\} \\\\\n",
    "where \\space 1 \\space indicates \\space student \\space i \\space was \\space accepted, \\space 0 \\space otherwise\n",
    " $$\n",
    " \n",
    " $$Z^i = w^T \\cdot x^i + b$$\n",
    " \n",
    "---\n",
    "\n",
    "<ins>Loss Function</ins>\n",
    "\n",
    "We want $L(\\hat{y^i}, y^i)=$ How close $\\hat{y^i}$ is to $y^i$!\n",
    "\n",
    "First consider maximizing $P(y^i|x^i)$ the probability that $\\hat{y^i}$ predicts $y^i$. Since there are two discrete outputs, this is subject to the following formula by Bernoulli \n",
    "\n",
    "Maximize $\\rightarrow P(y^i|x^i) = \\hat y^y (1-\\hat y)^{1-y}$\n",
    "\n",
    "Prediction is 1 if $\\hat{y^i} \\ge 0.5$, 0 otherwise.\n",
    "\n",
    "---\n",
    "\n",
    "The following packages will be needed to run the code below: \n",
    "\n",
    "* CSV [documentation](https://csv.juliadata.org/stable/)\n",
    "* DataFrames [documentation](https://dataframes.juliadata.org/stable/)\n",
    "\n",
    "---"
   ]
  },
  {
   "cell_type": "code",
   "execution_count": 7,
   "metadata": {},
   "outputs": [
    {
     "data": {
      "text/html": [
       "<table class=\"data-frame\"><thead><tr><th></th><th>gmat</th><th>gpa</th><th>work_experience</th><th>admitted</th></tr><tr><th></th><th>Int64</th><th>Float64</th><th>Int64</th><th>Int64</th></tr></thead><tbody><p>40 rows × 4 columns</p><tr><th>1</th><td>780</td><td>4.0</td><td>3</td><td>1</td></tr><tr><th>2</th><td>750</td><td>3.9</td><td>4</td><td>1</td></tr><tr><th>3</th><td>690</td><td>3.3</td><td>3</td><td>0</td></tr><tr><th>4</th><td>710</td><td>3.7</td><td>5</td><td>1</td></tr><tr><th>5</th><td>680</td><td>3.9</td><td>4</td><td>0</td></tr><tr><th>6</th><td>730</td><td>3.7</td><td>6</td><td>1</td></tr><tr><th>7</th><td>690</td><td>2.3</td><td>1</td><td>0</td></tr><tr><th>8</th><td>720</td><td>3.3</td><td>4</td><td>1</td></tr><tr><th>9</th><td>740</td><td>3.3</td><td>5</td><td>1</td></tr><tr><th>10</th><td>690</td><td>1.7</td><td>1</td><td>0</td></tr><tr><th>11</th><td>610</td><td>2.7</td><td>3</td><td>0</td></tr><tr><th>12</th><td>690</td><td>3.7</td><td>5</td><td>1</td></tr><tr><th>13</th><td>710</td><td>3.7</td><td>6</td><td>1</td></tr><tr><th>14</th><td>680</td><td>3.3</td><td>4</td><td>0</td></tr><tr><th>15</th><td>770</td><td>3.3</td><td>3</td><td>1</td></tr><tr><th>16</th><td>610</td><td>3.0</td><td>1</td><td>0</td></tr><tr><th>17</th><td>580</td><td>2.7</td><td>4</td><td>0</td></tr><tr><th>18</th><td>650</td><td>3.7</td><td>6</td><td>1</td></tr><tr><th>19</th><td>540</td><td>2.7</td><td>2</td><td>0</td></tr><tr><th>20</th><td>590</td><td>2.3</td><td>3</td><td>0</td></tr><tr><th>21</th><td>620</td><td>3.3</td><td>2</td><td>1</td></tr><tr><th>22</th><td>600</td><td>2.0</td><td>1</td><td>0</td></tr><tr><th>23</th><td>550</td><td>2.3</td><td>4</td><td>0</td></tr><tr><th>24</th><td>550</td><td>2.7</td><td>1</td><td>0</td></tr><tr><th>25</th><td>570</td><td>3.0</td><td>2</td><td>0</td></tr><tr><th>26</th><td>670</td><td>3.3</td><td>6</td><td>1</td></tr><tr><th>27</th><td>660</td><td>3.7</td><td>4</td><td>1</td></tr><tr><th>28</th><td>580</td><td>2.3</td><td>2</td><td>0</td></tr><tr><th>29</th><td>650</td><td>3.7</td><td>6</td><td>1</td></tr><tr><th>30</th><td>660</td><td>3.3</td><td>5</td><td>1</td></tr><tr><th>&vellip;</th><td>&vellip;</td><td>&vellip;</td><td>&vellip;</td><td>&vellip;</td></tr></tbody></table>"
      ],
      "text/latex": [
       "\\begin{tabular}{r|cccc}\n",
       "\t& gmat & gpa & work\\_experience & admitted\\\\\n",
       "\t\\hline\n",
       "\t& Int64 & Float64 & Int64 & Int64\\\\\n",
       "\t\\hline\n",
       "\t1 & 780 & 4.0 & 3 & 1 \\\\\n",
       "\t2 & 750 & 3.9 & 4 & 1 \\\\\n",
       "\t3 & 690 & 3.3 & 3 & 0 \\\\\n",
       "\t4 & 710 & 3.7 & 5 & 1 \\\\\n",
       "\t5 & 680 & 3.9 & 4 & 0 \\\\\n",
       "\t6 & 730 & 3.7 & 6 & 1 \\\\\n",
       "\t7 & 690 & 2.3 & 1 & 0 \\\\\n",
       "\t8 & 720 & 3.3 & 4 & 1 \\\\\n",
       "\t9 & 740 & 3.3 & 5 & 1 \\\\\n",
       "\t10 & 690 & 1.7 & 1 & 0 \\\\\n",
       "\t11 & 610 & 2.7 & 3 & 0 \\\\\n",
       "\t12 & 690 & 3.7 & 5 & 1 \\\\\n",
       "\t13 & 710 & 3.7 & 6 & 1 \\\\\n",
       "\t14 & 680 & 3.3 & 4 & 0 \\\\\n",
       "\t15 & 770 & 3.3 & 3 & 1 \\\\\n",
       "\t16 & 610 & 3.0 & 1 & 0 \\\\\n",
       "\t17 & 580 & 2.7 & 4 & 0 \\\\\n",
       "\t18 & 650 & 3.7 & 6 & 1 \\\\\n",
       "\t19 & 540 & 2.7 & 2 & 0 \\\\\n",
       "\t20 & 590 & 2.3 & 3 & 0 \\\\\n",
       "\t21 & 620 & 3.3 & 2 & 1 \\\\\n",
       "\t22 & 600 & 2.0 & 1 & 0 \\\\\n",
       "\t23 & 550 & 2.3 & 4 & 0 \\\\\n",
       "\t24 & 550 & 2.7 & 1 & 0 \\\\\n",
       "\t25 & 570 & 3.0 & 2 & 0 \\\\\n",
       "\t26 & 670 & 3.3 & 6 & 1 \\\\\n",
       "\t27 & 660 & 3.7 & 4 & 1 \\\\\n",
       "\t28 & 580 & 2.3 & 2 & 0 \\\\\n",
       "\t29 & 650 & 3.7 & 6 & 1 \\\\\n",
       "\t30 & 660 & 3.3 & 5 & 1 \\\\\n",
       "\t$\\dots$ & $\\dots$ & $\\dots$ & $\\dots$ & $\\dots$ \\\\\n",
       "\\end{tabular}\n"
      ],
      "text/plain": [
       "\u001b[1m40×4 DataFrame\u001b[0m\n",
       "\u001b[1m Row \u001b[0m│\u001b[1m gmat  \u001b[0m\u001b[1m gpa     \u001b[0m\u001b[1m work_experience \u001b[0m\u001b[1m admitted \u001b[0m\n",
       "\u001b[1m     \u001b[0m│\u001b[90m Int64 \u001b[0m\u001b[90m Float64 \u001b[0m\u001b[90m Int64           \u001b[0m\u001b[90m Int64    \u001b[0m\n",
       "─────┼───────────────────────────────────────────\n",
       "   1 │   780      4.0                3         1\n",
       "   2 │   750      3.9                4         1\n",
       "   3 │   690      3.3                3         0\n",
       "   4 │   710      3.7                5         1\n",
       "   5 │   680      3.9                4         0\n",
       "   6 │   730      3.7                6         1\n",
       "   7 │   690      2.3                1         0\n",
       "   8 │   720      3.3                4         1\n",
       "   9 │   740      3.3                5         1\n",
       "  10 │   690      1.7                1         0\n",
       "  11 │   610      2.7                3         0\n",
       "  ⋮  │   ⋮       ⋮            ⋮            ⋮\n",
       "  31 │   640      3.0                1         0\n",
       "  32 │   620      2.7                2         0\n",
       "  33 │   660      4.0                4         1\n",
       "  34 │   660      3.3                6         1\n",
       "  35 │   680      3.3                5         1\n",
       "  36 │   650      2.3                1         0\n",
       "  37 │   670      2.7                2         0\n",
       "  38 │   580      3.3                1         0\n",
       "  39 │   590      1.7                4         0\n",
       "  40 │   690      3.7                5         1\n",
       "\u001b[36m                                  19 rows omitted\u001b[0m"
      ]
     },
     "execution_count": 7,
     "metadata": {},
     "output_type": "execute_result"
    }
   ],
   "source": [
    "using CSV\n",
    "using DataFrames\n",
    "\n",
    "data = CSV.read(\"candidates_data.csv\", DataFrame)"
   ]
  },
  {
   "cell_type": "code",
   "execution_count": 44,
   "metadata": {},
   "outputs": [],
   "source": [
    "x_data = [[x[1], x[2], x[3]] for x in zip(data.gmat, data.gpa, data.work_experience)]\n",
    "y_data = [x for x in data.admitted];"
   ]
  },
  {
   "cell_type": "code",
   "execution_count": 14,
   "metadata": {},
   "outputs": [
    {
     "data": {
      "text/plain": [
       "average_cost (generic function with 1 method)"
      ]
     },
     "execution_count": 14,
     "metadata": {},
     "output_type": "execute_result"
    }
   ],
   "source": [
    "σ(x) = 1/(1+exp(-x))\n",
    "\n",
    "function cross_entropy_loss(x, y, w, b)\n",
    "    return -y*log(σ(w'x + b)) - (1-y)*log(1 - σ(w'x+b))\n",
    "end\n",
    "\n",
    "function average_cost(features, labels, w, b)\n",
    "    N = length(features)\n",
    "    return (1/N)*sum([cross_entropy_loss(features[i], labels[i], w, b) for i = 1:N])\n",
    "end"
   ]
  },
  {
   "cell_type": "code",
   "execution_count": 17,
   "metadata": {},
   "outputs": [
    {
     "data": {
      "text/plain": [
       "batch_gradient_descent (generic function with 1 method)"
      ]
     },
     "execution_count": 17,
     "metadata": {},
     "output_type": "execute_result"
    }
   ],
   "source": [
    "function batch_gradient_descent(features, labels, w, b, α)\n",
    "    del_w = [0.0 for i = 1:length(w)]\n",
    "    del_b = 0.0\n",
    "    \n",
    "    N = length(features)\n",
    "    \n",
    "    for i = 1:N\n",
    "        del_w += (σ(w'features[i] + b) - labels[i]) * features[i]\n",
    "        del_b += (σ(w'features[i] + b) - labels[i])\n",
    "    end\n",
    "    \n",
    "    w = w - α*del_w\n",
    "    b = b - α*del_b\n",
    "    \n",
    "    return w, b\n",
    "end;\n"
   ]
  },
  {
   "cell_type": "code",
   "execution_count": 25,
   "metadata": {},
   "outputs": [
    {
     "name": "stdout",
     "output_type": "stream",
     "text": [
      "The initial cost is: 0.6931471805599451\n",
      "The new cost is: 0.6931188566349795\n",
      "The new cost is: 0.6931096471365109\n",
      "The new cost is: 0.693106617309021\n"
     ]
    }
   ],
   "source": [
    "w = [0.0, 0.0]\n",
    "b = 0.0\n",
    "alpha = 0.0000001\n",
    "\n",
    "println(\"The initial cost is: \", average_cost(x_data, y_data, w, b))\n",
    "\n",
    "w, b = batch_gradient_descent(x_data, y_data, w, b, alpha)\n",
    "println(\"The new cost is: \", average_cost(x_data, y_data, w, b))\n",
    "\n",
    "w, b = batch_gradient_descent(x_data, y_data, w, b, alpha)\n",
    "println(\"The new cost is: \", average_cost(x_data, y_data, w, b))\n",
    "\n",
    "w, b = batch_gradient_descent(x_data, y_data, w, b, alpha)\n",
    "println(\"The new cost is: \", average_cost(x_data, y_data, w, b))"
   ]
  },
  {
   "cell_type": "code",
   "execution_count": 27,
   "metadata": {},
   "outputs": [
    {
     "data": {
      "text/plain": [
       "train_batch_gradient_descent (generic function with 1 method)"
      ]
     },
     "execution_count": 27,
     "metadata": {},
     "output_type": "execute_result"
    }
   ],
   "source": [
    "function train_batch_gradient_descent(features, labels, w, b, α, epochs)\n",
    "    for i = 1:epochs\n",
    "        w, b = batch_gradient_descent(features, labels, w, b, α)\n",
    "        \n",
    "        if i == 1\n",
    "            println(\"Epoch \", i, \" with cost: \", average_cost(features, labels, w, b))\n",
    "        end\n",
    "        \n",
    "        if i == 100\n",
    "            println(\"Epoch \", i, \" with cost: \", average_cost(features, labels, w, b))\n",
    "        end\n",
    "        \n",
    "        if i == 1000\n",
    "            println(\"Epoch \", i, \" with cost: \", average_cost(features, labels, w, b))\n",
    "        end\n",
    "        \n",
    "        if i == 10000\n",
    "            println(\"Epoch \", i, \" with cost: \", average_cost(features, labels, w, b))\n",
    "        end        \n",
    "        \n",
    "        if i == 100000\n",
    "            println(\"Epoch \", i, \" with cost: \", average_cost(features, labels, w, b))\n",
    "        end\n",
    "    end\n",
    "    return w, b\n",
    "end"
   ]
  },
  {
   "cell_type": "code",
   "execution_count": 29,
   "metadata": {},
   "outputs": [
    {
     "name": "stdout",
     "output_type": "stream",
     "text": [
      "Epoch 1 with cost: 0.6931188566349795\n",
      "Epoch 100 with cost: 0.6930977152288289\n",
      "Epoch 1000 with cost: 0.6930282266294219\n",
      "Epoch 10000 with cost: 0.6923351299473173\n"
     ]
    },
    {
     "data": {
      "text/plain": [
       "([3.899469673485949e-6, 0.005423710876459817], -0.0011817085723866323)"
      ]
     },
     "execution_count": 29,
     "metadata": {},
     "output_type": "execute_result"
    }
   ],
   "source": [
    "w = [0.0, 0.0]\n",
    "b = 0.0\n",
    "\n",
    "w, b = train_batch_gradient_descent(x_data, y_data, w, b, alpha, 10000)"
   ]
  },
  {
   "cell_type": "code",
   "execution_count": 33,
   "metadata": {},
   "outputs": [
    {
     "name": "stdout",
     "output_type": "stream",
     "text": [
      "Epoch 1 with cost: Inf\n",
      "Epoch 100 with cost: 2.049575499076534\n",
      "Epoch 1000 with cost: 2.0488317476761444\n",
      "Epoch 10000 with cost: 2.041321750747137\n",
      "Epoch 100000 with cost: 1.9669951685345766\n"
     ]
    },
    {
     "data": {
      "text/plain": [
       "([-0.014927450289209103, 4.522843677287361], -1.1120956929443366)"
      ]
     },
     "execution_count": 33,
     "metadata": {},
     "output_type": "execute_result"
    }
   ],
   "source": [
    "w = randn(2)\n",
    "b = randn(1)[1]\n",
    "alpha = 0.000001\n",
    "\n",
    "w, b = train_batch_gradient_descent(x_data, y_data, w, b, alpha, 1000000)"
   ]
  },
  {
   "cell_type": "code",
   "execution_count": 34,
   "metadata": {},
   "outputs": [
    {
     "name": "stdout",
     "output_type": "stream",
     "text": [
      "Epoch 1 with cost: 0.9767539152256929\n",
      "Epoch 100 with cost: 1.2030512616375892\n",
      "Epoch 1000 with cost: 1.2025427350571167\n",
      "Epoch 10000 with cost: 1.1974981352024467\n",
      "Epoch 100000 with cost: 1.1509047775073882\n"
     ]
    },
    {
     "data": {
      "text/plain": [
       "([-0.01821390732497044, 5.268830266014666], -2.1382436494762125)"
      ]
     },
     "execution_count": 34,
     "metadata": {},
     "output_type": "execute_result"
    }
   ],
   "source": [
    "w, b = train_batch_gradient_descent(x_data, y_data, w, b, alpha, 1000000)"
   ]
  },
  {
   "cell_type": "code",
   "execution_count": 35,
   "metadata": {},
   "outputs": [
    {
     "name": "stdout",
     "output_type": "stream",
     "text": [
      "Epoch 1 with cost: 0.79456687830405\n",
      "Epoch 100 with cost: 0.9118123026442021\n",
      "Epoch 1000 with cost: 0.9116885972291986\n",
      "Epoch 10000 with cost: 0.9104587498696306\n",
      "Epoch 100000 with cost: 0.8988453650000553\n"
     ]
    },
    {
     "data": {
      "text/plain": [
       "([-0.017734470275478375, 5.393564488314007], -3.093365672835176)"
      ]
     },
     "execution_count": 35,
     "metadata": {},
     "output_type": "execute_result"
    }
   ],
   "source": [
    "w, b = train_batch_gradient_descent(x_data, y_data, w, b, alpha, 1000000)"
   ]
  },
  {
   "cell_type": "code",
   "execution_count": 36,
   "metadata": {},
   "outputs": [
    {
     "name": "stdout",
     "output_type": "stream",
     "text": [
      "Epoch 1 with cost: 0.7344737655381757\n",
      "Epoch 100 with cost: 0.8265318803665865\n",
      "Epoch 1000 with cost: 0.8264841842458494\n",
      "Epoch 10000 with cost: 0.8260088881315215\n",
      "Epoch 100000 with cost: 0.8214148478034495\n"
     ]
    },
    {
     "data": {
      "text/plain": [
       "([-0.016376960653775086, 5.372869356803333], -4.003565651816795)"
      ]
     },
     "execution_count": 36,
     "metadata": {},
     "output_type": "execute_result"
    }
   ],
   "source": [
    "w, b = train_batch_gradient_descent(x_data, y_data, w, b, alpha, 1000000)"
   ]
  },
  {
   "cell_type": "code",
   "execution_count": 39,
   "metadata": {},
   "outputs": [
    {
     "name": "stdout",
     "output_type": "stream",
     "text": [
      "Epoch 1 with cost: 0.8346582861099829\n",
      "Epoch 100 with cost: 0.5063542465461425\n",
      "Epoch 1000 with cost: 0.5063512218106138\n",
      "Epoch 10000 with cost: 0.5063209803876851\n",
      "Epoch 100000 with cost: 0.5060191582848257\n"
     ]
    },
    {
     "data": {
      "text/plain": [
       "([-0.0178370043205895, 4.0924608391655655], -1.2542241993656118)"
      ]
     },
     "execution_count": 39,
     "metadata": {},
     "output_type": "execute_result"
    }
   ],
   "source": [
    "w, b = train_batch_gradient_descent(x_data, y_data, w, b, 0.0000001, 1000000)"
   ]
  },
  {
   "cell_type": "code",
   "execution_count": 40,
   "metadata": {},
   "outputs": [
    {
     "name": "stdout",
     "output_type": "stream",
     "text": [
      "Epoch 1 with cost: 0.5030590407003086\n",
      "Epoch 100 with cost: 0.503058720789801\n",
      "Epoch 1000 with cost: 0.5030558125689913\n",
      "Epoch 10000 with cost: 0.5030267359622006\n",
      "Epoch 100000 with cost: 0.5027365289314798\n"
     ]
    },
    {
     "data": {
      "text/plain": [
       "([-0.01738561307976791, 4.028965621714494], -1.347210089838961)"
      ]
     },
     "execution_count": 40,
     "metadata": {},
     "output_type": "execute_result"
    }
   ],
   "source": [
    "w, b = train_batch_gradient_descent(x_data, y_data, w, b, 0.0000001, 1000000)"
   ]
  },
  {
   "cell_type": "code",
   "execution_count": 41,
   "metadata": {},
   "outputs": [
    {
     "name": "stdout",
     "output_type": "stream",
     "text": [
      "Epoch 1 with cost: 0.4998892712370567\n",
      "Epoch 100 with cost: 0.4998889634139637\n",
      "Epoch 1000 with cost: 0.4998861650754635\n",
      "Epoch 10000 with cost: 0.4998581869666292\n",
      "Epoch 100000 with cost: 0.4995789324255806\n"
     ]
    },
    {
     "data": {
      "text/plain": [
       "([-0.016950296337876602, 3.9686024422233883], -1.439732863156997)"
      ]
     },
     "execution_count": 41,
     "metadata": {},
     "output_type": "execute_result"
    }
   ],
   "source": [
    "w, b = train_batch_gradient_descent(x_data, y_data, w, b, 0.0000001, 1000000)"
   ]
  },
  {
   "cell_type": "code",
   "execution_count": 42,
   "metadata": {},
   "outputs": [
    {
     "data": {
      "text/plain": [
       "predict (generic function with 1 method)"
      ]
     },
     "execution_count": 42,
     "metadata": {},
     "output_type": "execute_result"
    }
   ],
   "source": [
    "function predict(x, y, w, b)\n",
    "    if σ(w'x+b) >= .5\n",
    "        println(\"Predict Accepted\")\n",
    "        y == 1 ? println(\"Was Accepted\") : println(\"Was Not Accepted\")\n",
    "    else\n",
    "        println(\"Predict Not Accepted\")\n",
    "        y == 1 ? println(\"Was Accepted\") : println(\"Was Not Accepted\")\n",
    "        \n",
    "    end\n",
    "end"
   ]
  },
  {
   "cell_type": "code",
   "execution_count": 43,
   "metadata": {},
   "outputs": [
    {
     "name": "stdout",
     "output_type": "stream",
     "text": [
      "Predict Accepted\n",
      "Was Accepted\n",
      "\n",
      "Predict Accepted\n",
      "Was Accepted\n",
      "\n",
      "Predict Not Accepted\n",
      "Was Not Accepted\n",
      "\n",
      "Predict Accepted\n",
      "Was Accepted\n",
      "\n",
      "Predict Accepted\n",
      "Was Not Accepted\n",
      "\n",
      "Predict Accepted\n",
      "Was Accepted\n",
      "\n",
      "Predict Not Accepted\n",
      "Was Not Accepted\n",
      "\n",
      "Predict Not Accepted\n",
      "Was Accepted\n",
      "\n",
      "Predict Not Accepted\n",
      "Was Accepted\n",
      "\n",
      "Predict Not Accepted\n",
      "Was Not Accepted\n",
      "\n",
      "Predict Not Accepted\n",
      "Was Not Accepted\n",
      "\n",
      "Predict Accepted\n",
      "Was Accepted\n",
      "\n",
      "Predict Accepted\n",
      "Was Accepted\n",
      "\n",
      "Predict Accepted\n",
      "Was Not Accepted\n",
      "\n",
      "Predict Not Accepted\n",
      "Was Accepted\n",
      "\n",
      "Predict Accepted\n",
      "Was Not Accepted\n",
      "\n",
      "Predict Not Accepted\n",
      "Was Not Accepted\n",
      "\n",
      "Predict Accepted\n",
      "Was Accepted\n",
      "\n",
      "Predict Accepted\n",
      "Was Not Accepted\n",
      "\n",
      "Predict Not Accepted\n",
      "Was Not Accepted\n",
      "\n",
      "Predict Accepted\n",
      "Was Accepted\n",
      "\n",
      "Predict Not Accepted\n",
      "Was Not Accepted\n",
      "\n",
      "Predict Not Accepted\n",
      "Was Not Accepted\n",
      "\n",
      "Predict Not Accepted\n",
      "Was Not Accepted\n",
      "\n",
      "Predict Accepted\n",
      "Was Not Accepted\n",
      "\n",
      "Predict Accepted\n",
      "Was Accepted\n",
      "\n",
      "Predict Accepted\n",
      "Was Accepted\n",
      "\n",
      "Predict Not Accepted\n",
      "Was Not Accepted\n",
      "\n",
      "Predict Accepted\n",
      "Was Accepted\n",
      "\n",
      "Predict Accepted\n",
      "Was Accepted\n",
      "\n",
      "Predict Not Accepted\n",
      "Was Not Accepted\n",
      "\n",
      "Predict Not Accepted\n",
      "Was Not Accepted\n",
      "\n",
      "Predict Accepted\n",
      "Was Accepted\n",
      "\n",
      "Predict Accepted\n",
      "Was Accepted\n",
      "\n",
      "Predict Accepted\n",
      "Was Accepted\n",
      "\n",
      "Predict Not Accepted\n",
      "Was Not Accepted\n",
      "\n",
      "Predict Not Accepted\n",
      "Was Not Accepted\n",
      "\n",
      "Predict Accepted\n",
      "Was Not Accepted\n",
      "\n",
      "Predict Not Accepted\n",
      "Was Not Accepted\n",
      "\n",
      "Predict Accepted\n",
      "Was Accepted\n",
      "\n"
     ]
    }
   ],
   "source": [
    "for i = 1:length(x_data)\n",
    "    predict(x_data[i], y_data[i], w, b)\n",
    "    println()\n",
    "end"
   ]
  },
  {
   "cell_type": "code",
   "execution_count": 47,
   "metadata": {},
   "outputs": [
    {
     "name": "stdout",
     "output_type": "stream",
     "text": [
      "Epoch 1 with cost: 0.6931177157407156\n",
      "Epoch 100 with cost: 0.6929888339906559\n",
      "Epoch 1000 with cost: 0.6919428619010852\n",
      "Epoch 10000 with cost: 0.6817529632034032\n",
      "Epoch 100000 with cost: 0.6024310614307002\n"
     ]
    },
    {
     "data": {
      "text/plain": [
       "([-0.0011579213136820733, 0.04975692225071529, 0.18290667154994167], -0.011472919398336808)"
      ]
     },
     "execution_count": 47,
     "metadata": {},
     "output_type": "execute_result"
    }
   ],
   "source": [
    "w = [0.0, 0.0, 0.0]\n",
    "b = 0.0\n",
    "alpha = 0.0000001\n",
    "epochs = 100000\n",
    "\n",
    "w, b = train_batch_gradient_descent(x_data, y_data, w, b, alpha, epochs)"
   ]
  },
  {
   "cell_type": "code",
   "execution_count": 48,
   "metadata": {},
   "outputs": [
    {
     "name": "stdout",
     "output_type": "stream",
     "text": [
      "Epoch 1 with cost: 0.6024303687427798\n",
      "Epoch 100 with cost: 0.6023618099205645\n",
      "Epoch 1000 with cost: 0.60174011433922\n",
      "Epoch 10000 with cost: 0.5956753895704099\n",
      "Epoch 100000 with cost: 0.5476543722140943\n"
     ]
    },
    {
     "data": {
      "text/plain": [
       "([-0.00208861549084507, 0.09213882840745298, 0.32393091174023153], -0.022369659983565725)"
      ]
     },
     "execution_count": 48,
     "metadata": {},
     "output_type": "execute_result"
    }
   ],
   "source": [
    "w, b = train_batch_gradient_descent(x_data, y_data, w, b, alpha, epochs)"
   ]
  },
  {
   "cell_type": "code",
   "execution_count": 49,
   "metadata": {},
   "outputs": [
    {
     "name": "stdout",
     "output_type": "stream",
     "text": [
      "Epoch 1 with cost: 0.547653943841169\n",
      "Epoch 100 with cost: 0.5476115445813797\n",
      "Epoch 1000 with cost: 0.5472269723939766\n",
      "Epoch 10000 with cost: 0.5434664068011568\n",
      "Epoch 100000 with cost: 0.5129873679408394\n"
     ]
    },
    {
     "data": {
      "text/plain": [
       "([-0.00283734417848026, 0.12929822452823045, 0.4349305669981876], -0.03283740622246671)"
      ]
     },
     "execution_count": 49,
     "metadata": {},
     "output_type": "execute_result"
    }
   ],
   "source": [
    "w, b = train_batch_gradient_descent(x_data, y_data, w, b, alpha, epochs)"
   ]
  },
  {
   "cell_type": "code",
   "execution_count": 50,
   "metadata": {},
   "outputs": [
    {
     "name": "stdout",
     "output_type": "stream",
     "text": [
      "Epoch 1 with cost: 0.5129870893669561\n",
      "Epoch 100 with cost: 0.5129595161436339\n",
      "Epoch 1000 with cost: 0.5127093573663242\n",
      "Epoch 10000 with cost: 0.5102571376930498\n"
     ]
    },
    {
     "data": {
      "text/plain": [
       "([-0.002904328515929091, 0.13278965745622207, 0.4447262316047905], -0.0338649504871565)"
      ]
     },
     "execution_count": 50,
     "metadata": {},
     "output_type": "execute_result"
    }
   ],
   "source": [
    "w, b = train_batch_gradient_descent(x_data, y_data, w, b, alpha, 10000)"
   ]
  },
  {
   "cell_type": "code",
   "execution_count": 51,
   "metadata": {},
   "outputs": [
    {
     "name": "stdout",
     "output_type": "stream",
     "text": [
      "Epoch 1 with cost: 0.510256870126297\n",
      "Epoch 100 with cost: 0.5102303863247294\n",
      "Epoch 1000 with cost: 0.5099901056279379\n",
      "Epoch 10000 with cost: 0.5076341658645985\n"
     ]
    },
    {
     "data": {
      "text/plain": [
       "([-0.002970054410219168, 0.13624544373329164, 0.45431367965209923], -0.03488936899911179)"
      ]
     },
     "execution_count": 51,
     "metadata": {},
     "output_type": "execute_result"
    }
   ],
   "source": [
    "w, b = train_batch_gradient_descent(x_data, y_data, w, b, alpha, 10000)"
   ]
  },
  {
   "cell_type": "code",
   "execution_count": 52,
   "metadata": {},
   "outputs": [
    {
     "name": "stdout",
     "output_type": "stream",
     "text": [
      "Epoch 1 with cost: 0.5076339087480123\n",
      "Epoch 100 with cost: 0.5076084592456328\n",
      "Epoch 1000 with cost: 0.5073775570405491\n",
      "Epoch 10000 with cost: 0.5051130491343722\n"
     ]
    },
    {
     "data": {
      "text/plain": [
       "([-0.0030345603137766682, 0.1396667081732651, 0.4636992515653897], -0.035910744006958914)"
      ]
     },
     "execution_count": 52,
     "metadata": {},
     "output_type": "execute_result"
    }
   ],
   "source": [
    "w, b = train_batch_gradient_descent(x_data, y_data, w, b, alpha, 10000)"
   ]
  },
  {
   "cell_type": "code",
   "execution_count": 53,
   "metadata": {},
   "outputs": [
    {
     "name": "stdout",
     "output_type": "stream",
     "text": [
      "Epoch 1 with cost: 0.505112801943887\n",
      "Epoch 100 with cost: 0.5050883348739134\n",
      "Epoch 1000 with cost: 0.5048663410705962\n",
      "Epoch 10000 with cost: 0.5026887023500276\n"
     ]
    },
    {
     "data": {
      "text/plain": [
       "([-0.0030978831752307705, 0.1430545295753102, 0.4728890433094475], -0.03692915487873566)"
      ]
     },
     "execution_count": 53,
     "metadata": {},
     "output_type": "execute_result"
    }
   ],
   "source": [
    "w, b = train_batch_gradient_descent(x_data, y_data, w, b, alpha, 10000)"
   ]
  },
  {
   "cell_type": "code",
   "execution_count": 54,
   "metadata": {},
   "outputs": [
    {
     "name": "stdout",
     "output_type": "stream",
     "text": [
      "Epoch 1 with cost: 0.5026884645923376\n",
      "Epoch 100 with cost: 0.5026649311322305\n",
      "Epoch 1000 with cost: 0.5024514032230817\n",
      "Epoch 10000 with cost: 0.5003563378724779\n"
     ]
    },
    {
     "data": {
      "text/plain": [
       "([-0.0031600585028829383, 0.1464099426822, 0.48188891645607423], -0.03794467821113925)"
      ]
     },
     "execution_count": 54,
     "metadata": {},
     "output_type": "execute_result"
    }
   ],
   "source": [
    "w, b = train_batch_gradient_descent(x_data, y_data, w, b, alpha, 10000)"
   ]
  },
  {
   "cell_type": "code",
   "execution_count": 55,
   "metadata": {},
   "outputs": [
    {
     "name": "stdout",
     "output_type": "stream",
     "text": [
      "Predict Not Accepted\n",
      "Was Accepted\n",
      "\n",
      "Predict Accepted\n",
      "Was Accepted\n",
      "\n",
      "Predict Not Accepted\n",
      "Was Not Accepted\n",
      "\n",
      "Predict Accepted\n",
      "Was Accepted\n",
      "\n",
      "Predict Accepted\n",
      "Was Not Accepted\n",
      "\n",
      "Predict Accepted\n",
      "Was Accepted\n",
      "\n",
      "Predict Not Accepted\n",
      "Was Not Accepted\n",
      "\n",
      "Predict Accepted\n",
      "Was Accepted\n",
      "\n",
      "Predict Accepted\n",
      "Was Accepted\n",
      "\n",
      "Predict Not Accepted\n",
      "Was Not Accepted\n",
      "\n",
      "Predict Not Accepted\n",
      "Was Not Accepted\n",
      "\n",
      "Predict Accepted\n",
      "Was Accepted\n",
      "\n",
      "Predict Accepted\n",
      "Was Accepted\n",
      "\n",
      "Predict Accepted\n",
      "Was Not Accepted\n",
      "\n",
      "Predict Not Accepted\n",
      "Was Accepted\n",
      "\n",
      "Predict Not Accepted\n",
      "Was Not Accepted\n",
      "\n",
      "Predict Accepted\n",
      "Was Not Accepted\n",
      "\n",
      "Predict Accepted\n",
      "Was Accepted\n",
      "\n",
      "Predict Not Accepted\n",
      "Was Not Accepted\n",
      "\n",
      "Predict Not Accepted\n",
      "Was Not Accepted\n",
      "\n",
      "Predict Not Accepted\n",
      "Was Accepted\n",
      "\n",
      "Predict Not Accepted\n",
      "Was Not Accepted\n",
      "\n",
      "Predict Accepted\n",
      "Was Not Accepted\n",
      "\n",
      "Predict Not Accepted\n",
      "Was Not Accepted\n",
      "\n",
      "Predict Not Accepted\n",
      "Was Not Accepted\n",
      "\n",
      "Predict Accepted\n",
      "Was Accepted\n",
      "\n",
      "Predict Accepted\n",
      "Was Accepted\n",
      "\n",
      "Predict Not Accepted\n",
      "Was Not Accepted\n",
      "\n",
      "Predict Accepted\n",
      "Was Accepted\n",
      "\n",
      "Predict Accepted\n",
      "Was Accepted\n",
      "\n",
      "Predict Not Accepted\n",
      "Was Not Accepted\n",
      "\n",
      "Predict Not Accepted\n",
      "Was Not Accepted\n",
      "\n",
      "Predict Accepted\n",
      "Was Accepted\n",
      "\n",
      "Predict Accepted\n",
      "Was Accepted\n",
      "\n",
      "Predict Accepted\n",
      "Was Accepted\n",
      "\n",
      "Predict Not Accepted\n",
      "Was Not Accepted\n",
      "\n",
      "Predict Not Accepted\n",
      "Was Not Accepted\n",
      "\n",
      "Predict Not Accepted\n",
      "Was Not Accepted\n",
      "\n",
      "Predict Accepted\n",
      "Was Not Accepted\n",
      "\n",
      "Predict Accepted\n",
      "Was Accepted\n",
      "\n"
     ]
    }
   ],
   "source": [
    "for i = 1:length(x_data)\n",
    "    predict(x_data[i], y_data[i], w, b)\n",
    "    println()\n",
    "end"
   ]
  },
  {
   "cell_type": "code",
   "execution_count": 56,
   "metadata": {},
   "outputs": [
    {
     "data": {
      "text/plain": [
       "new_predict (generic function with 1 method)"
      ]
     },
     "execution_count": 56,
     "metadata": {},
     "output_type": "execute_result"
    }
   ],
   "source": [
    "function new_predict(x, y, w, b)\n",
    "    if σ(w'x+b) >= .5\n",
    "        return 1\n",
    "    else\n",
    "        return 0\n",
    "    end\n",
    "end"
   ]
  },
  {
   "cell_type": "code",
   "execution_count": 57,
   "metadata": {},
   "outputs": [
    {
     "name": "stdout",
     "output_type": "stream",
     "text": [
      "0.2\n"
     ]
    }
   ],
   "source": [
    "mean_error = 0.0\n",
    "for i = 1:length(x_data)\n",
    "    mean_error += (new_predict(x_data[i], y_data[i], w, b) - y_data[i])^2\n",
    "end\n",
    "\n",
    "println(mean_error/length(x_data))"
   ]
  },
  {
   "cell_type": "code",
   "execution_count": null,
   "metadata": {},
   "outputs": [],
   "source": []
  }
 ],
 "metadata": {
  "kernelspec": {
   "display_name": "Julia 1.5.3",
   "language": "julia",
   "name": "julia-1.5"
  },
  "language_info": {
   "file_extension": ".jl",
   "mimetype": "application/julia",
   "name": "julia",
   "version": "1.5.3"
  }
 },
 "nbformat": 4,
 "nbformat_minor": 4
}
