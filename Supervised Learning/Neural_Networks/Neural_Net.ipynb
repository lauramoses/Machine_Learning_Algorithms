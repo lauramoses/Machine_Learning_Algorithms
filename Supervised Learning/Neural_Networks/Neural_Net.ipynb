{
 "cells": [
  {
   "cell_type": "markdown",
   "metadata": {},
   "source": [
    "# Neural Networks and the MNIST Data Set\n",
    "\n",
    "The MNIST data set consists of $70,000$ images of hand written digits, $60,000$ of which are typically used as labeled training examples, where the other $10,000$ are used for testing your learning model on. \n",
    "\n",
    "<img src=\"MnistExamples.png\" width=\"50%\">\n",
    "\n",
    "\n",
    "To access this data set, as well as view the data as an image, we will need the following packages:\n",
    "* MLDatasets [documentation](https://github.com/JuliaML/MLDatasets.jl)\n",
    "* Images, Testimages, ImageMagicO [documentation](https://juliaimages.org/latest/)"
   ]
  },
  {
   "cell_type": "code",
   "execution_count": 5,
   "metadata": {},
   "outputs": [],
   "source": [
    "using MLDatasets, Plots, Images, TestImages\n",
    "\n",
    "\"\n",
    "train_x, train_y = Fashion_MNIST.traindata()\n",
    "test_x,  test_y  = Fashion_MNIST.testdata()\n",
    "\"\n",
    "\n",
    "train_x, train_y = MNIST.traindata()\n",
    "test_x,  test_y  = MNIST.testdata();"
   ]
  },
  {
   "cell_type": "markdown",
   "metadata": {},
   "source": [
    "---\n",
    "\n",
    "The  data structures train_x and test_x are stored as 3 dimensional tensors.\n",
    "\n",
    "<img src=\"order-3-tensor.png\" width=\"50%\">\n",
    "\n",
    "---"
   ]
  },
  {
   "cell_type": "code",
   "execution_count": 4,
   "metadata": {},
   "outputs": [
    {
     "data": {
      "text/plain": [
       "(28, 28, 60000)"
      ]
     },
     "execution_count": 4,
     "metadata": {},
     "output_type": "execute_result"
    }
   ],
   "source": [
    "# Show the dimensions of the train_x tensor.\n",
    "size(train_x)"
   ]
  },
  {
   "cell_type": "markdown",
   "metadata": {},
   "source": [
    "---\n",
    "\n",
    "Each image in the is comprised of a $28\\times 28$ grey scaled grid of pixel values. These values are floating point numbers in the interval $(0,1)$, where darker pixels will have values closer to $1$ and lighter pixels will have values closer to $0$. The following image represents one such example.\n",
    "\n",
    "<img src=\"MNIST-Matrix.png\" width=\"75%\">\n",
    "\n",
    "---"
   ]
  },
  {
   "cell_type": "code",
   "execution_count": 7,
   "metadata": {},
   "outputs": [
    {
     "data": {
      "text/plain": [
       "(60000,)"
      ]
     },
     "execution_count": 7,
     "metadata": {},
     "output_type": "execute_result"
    }
   ],
   "source": [
    "# Verify the dimensions of the training vector. This should match the depth of out training \n",
    "# tensor. \n",
    "size(train_y)"
   ]
  },
  {
   "cell_type": "code",
   "execution_count": 6,
   "metadata": {},
   "outputs": [
    {
     "data": {
      "text/plain": [
       "28×28 Array{N0f8,2} with eltype Normed{UInt8,8}:\n",
       " 0.0  0.0  0.0  0.0  0.0  0.0    0.0    …  0.0    0.0    0.0    0.0  0.0  0.0\n",
       " 0.0  0.0  0.0  0.0  0.0  0.0    0.0       0.0    0.0    0.0    0.0  0.0  0.0\n",
       " 0.0  0.0  0.0  0.0  0.0  0.0    0.0       0.0    0.0    0.0    0.0  0.0  0.0\n",
       " 0.0  0.0  0.0  0.0  0.0  0.0    0.0       0.0    0.0    0.0    0.0  0.0  0.0\n",
       " 0.0  0.0  0.0  0.0  0.0  0.0    0.0       0.0    0.216  0.533  0.0  0.0  0.0\n",
       " 0.0  0.0  0.0  0.0  0.0  0.0    0.0    …  0.0    0.675  0.992  0.0  0.0  0.0\n",
       " 0.0  0.0  0.0  0.0  0.0  0.0    0.0       0.071  0.886  0.992  0.0  0.0  0.0\n",
       " 0.0  0.0  0.0  0.0  0.0  0.0    0.0       0.671  0.992  0.992  0.0  0.0  0.0\n",
       " 0.0  0.0  0.0  0.0  0.0  0.0    0.118     0.859  0.992  0.831  0.0  0.0  0.0\n",
       " 0.0  0.0  0.0  0.0  0.0  0.0    0.141     0.992  0.992  0.529  0.0  0.0  0.0\n",
       " 0.0  0.0  0.0  0.0  0.0  0.0    0.369  …  0.992  0.992  0.518  0.0  0.0  0.0\n",
       " 0.0  0.0  0.0  0.0  0.0  0.0    0.604     0.992  0.957  0.063  0.0  0.0  0.0\n",
       " 0.0  0.0  0.0  0.0  0.0  0.012  0.667     0.992  0.522  0.0    0.0  0.0  0.0\n",
       " ⋮                        ⋮             ⋱                       ⋮         \n",
       " 0.0  0.0  0.0  0.0  0.0  0.494  0.992     0.0    0.0    0.0    0.0  0.0  0.0\n",
       " 0.0  0.0  0.0  0.0  0.0  0.533  0.992     0.0    0.0    0.0    0.0  0.0  0.0\n",
       " 0.0  0.0  0.0  0.0  0.0  0.686  0.882     0.0    0.0    0.0    0.0  0.0  0.0\n",
       " 0.0  0.0  0.0  0.0  0.0  0.102  0.675     0.0    0.0    0.0    0.0  0.0  0.0\n",
       " 0.0  0.0  0.0  0.0  0.0  0.651  0.992  …  0.0    0.0    0.0    0.0  0.0  0.0\n",
       " 0.0  0.0  0.0  0.0  0.0  1.0    0.949     0.0    0.0    0.0    0.0  0.0  0.0\n",
       " 0.0  0.0  0.0  0.0  0.0  0.969  0.765     0.0    0.0    0.0    0.0  0.0  0.0\n",
       " 0.0  0.0  0.0  0.0  0.0  0.498  0.251     0.0    0.0    0.0    0.0  0.0  0.0\n",
       " 0.0  0.0  0.0  0.0  0.0  0.0    0.0       0.0    0.0    0.0    0.0  0.0  0.0\n",
       " 0.0  0.0  0.0  0.0  0.0  0.0    0.0    …  0.0    0.0    0.0    0.0  0.0  0.0\n",
       " 0.0  0.0  0.0  0.0  0.0  0.0    0.0       0.0    0.0    0.0    0.0  0.0  0.0\n",
       " 0.0  0.0  0.0  0.0  0.0  0.0    0.0       0.0    0.0    0.0    0.0  0.0  0.0"
      ]
     },
     "execution_count": 6,
     "metadata": {},
     "output_type": "execute_result"
    }
   ],
   "source": [
    "# Verify the the shape of the elements in the tensor slices.\n",
    "train_x[:,:,1]"
   ]
  },
  {
   "cell_type": "code",
   "execution_count": 11,
   "metadata": {},
   "outputs": [
    {
     "name": "stdout",
     "output_type": "stream",
     "text": [
      "The first image in our train data is labeled 5"
     ]
    },
    {
     "data": {
      "image/png": "[encoded data removed]",
      "text/plain": [
       "28×28 reinterpret(Gray{N0f8}, ::LinearAlgebra.Adjoint{Normed{UInt8,8},Array{Normed{UInt8,8},2}}):\n",
       " Gray{N0f8}(0.0)  Gray{N0f8}(0.0)  …  Gray{N0f8}(0.0)  Gray{N0f8}(0.0)\n",
       " Gray{N0f8}(0.0)  Gray{N0f8}(0.0)     Gray{N0f8}(0.0)  Gray{N0f8}(0.0)\n",
       " Gray{N0f8}(0.0)  Gray{N0f8}(0.0)     Gray{N0f8}(0.0)  Gray{N0f8}(0.0)\n",
       " Gray{N0f8}(0.0)  Gray{N0f8}(0.0)     Gray{N0f8}(0.0)  Gray{N0f8}(0.0)\n",
       " Gray{N0f8}(0.0)  Gray{N0f8}(0.0)     Gray{N0f8}(0.0)  Gray{N0f8}(0.0)\n",
       " Gray{N0f8}(0.0)  Gray{N0f8}(0.0)  …  Gray{N0f8}(0.0)  Gray{N0f8}(0.0)\n",
       " Gray{N0f8}(0.0)  Gray{N0f8}(0.0)     Gray{N0f8}(0.0)  Gray{N0f8}(0.0)\n",
       " Gray{N0f8}(0.0)  Gray{N0f8}(0.0)     Gray{N0f8}(0.0)  Gray{N0f8}(0.0)\n",
       " Gray{N0f8}(0.0)  Gray{N0f8}(0.0)     Gray{N0f8}(0.0)  Gray{N0f8}(0.0)\n",
       " Gray{N0f8}(0.0)  Gray{N0f8}(0.0)     Gray{N0f8}(0.0)  Gray{N0f8}(0.0)\n",
       " Gray{N0f8}(0.0)  Gray{N0f8}(0.0)  …  Gray{N0f8}(0.0)  Gray{N0f8}(0.0)\n",
       " Gray{N0f8}(0.0)  Gray{N0f8}(0.0)     Gray{N0f8}(0.0)  Gray{N0f8}(0.0)\n",
       " Gray{N0f8}(0.0)  Gray{N0f8}(0.0)     Gray{N0f8}(0.0)  Gray{N0f8}(0.0)\n",
       " ⋮                                 ⋱                   \n",
       " Gray{N0f8}(0.0)  Gray{N0f8}(0.0)     Gray{N0f8}(0.0)  Gray{N0f8}(0.0)\n",
       " Gray{N0f8}(0.0)  Gray{N0f8}(0.0)     Gray{N0f8}(0.0)  Gray{N0f8}(0.0)\n",
       " Gray{N0f8}(0.0)  Gray{N0f8}(0.0)     Gray{N0f8}(0.0)  Gray{N0f8}(0.0)\n",
       " Gray{N0f8}(0.0)  Gray{N0f8}(0.0)     Gray{N0f8}(0.0)  Gray{N0f8}(0.0)\n",
       " Gray{N0f8}(0.0)  Gray{N0f8}(0.0)  …  Gray{N0f8}(0.0)  Gray{N0f8}(0.0)\n",
       " Gray{N0f8}(0.0)  Gray{N0f8}(0.0)     Gray{N0f8}(0.0)  Gray{N0f8}(0.0)\n",
       " Gray{N0f8}(0.0)  Gray{N0f8}(0.0)     Gray{N0f8}(0.0)  Gray{N0f8}(0.0)\n",
       " Gray{N0f8}(0.0)  Gray{N0f8}(0.0)     Gray{N0f8}(0.0)  Gray{N0f8}(0.0)\n",
       " Gray{N0f8}(0.0)  Gray{N0f8}(0.0)     Gray{N0f8}(0.0)  Gray{N0f8}(0.0)\n",
       " Gray{N0f8}(0.0)  Gray{N0f8}(0.0)  …  Gray{N0f8}(0.0)  Gray{N0f8}(0.0)\n",
       " Gray{N0f8}(0.0)  Gray{N0f8}(0.0)     Gray{N0f8}(0.0)  Gray{N0f8}(0.0)\n",
       " Gray{N0f8}(0.0)  Gray{N0f8}(0.0)     Gray{N0f8}(0.0)  Gray{N0f8}(0.0)"
      ]
     },
     "execution_count": 11,
     "metadata": {},
     "output_type": "execute_result"
    }
   ],
   "source": [
    "print(\"The first image in our train data is labeled \", train_y[1])\n",
    "colorview(Gray, train_x[:, :, 1]')"
   ]
  },
  {
   "cell_type": "markdown",
   "metadata": {},
   "source": [
    "---\n",
    "\n",
    "Each of these training features is a matrix, but our neuron network is going to take in a vector, so we need to flatter or reshape our matrix into a vector. \n",
    "\n",
    "---"
   ]
  },
  {
   "cell_type": "code",
   "execution_count": 13,
   "metadata": {},
   "outputs": [],
   "source": [
    "# Flatten the train matrix input data into a vector\n",
    "X = []   # Flattened 784 column vectors\n",
    "Y = []   # One-hot encoding label vectors \n",
    "for i = 1:60000 # 60000 in train set\n",
    "    push!(X, reshape(train_x[:, :, i], 784))\n",
    "    y = zeros(10)\n",
    "    y[train_y[i] + 1] = 1.0\n",
    "    push!(Y,y)\n",
    "end\n",
    "\n",
    "train_data = [x for x in zip(X, Y)];\n",
    "\n",
    "# Flatten the test matrix input data into a vector\n",
    "X = []   # Flattened 784 column vectors\n",
    "Y = []   # One-hot encoding label vectors \n",
    "for i = 1:10000 # 10000 in test set\n",
    "    push!(X, reshape(test_x[:, :, i], 784))\n",
    "    y = zeros(10)\n",
    "    y[test_y[i] + 1] = 1.0\n",
    "    push!(Y,y)\n",
    "end\n",
    "\n",
    "test_data = [x for x in zip(X, Y)];"
   ]
  },
  {
   "cell_type": "markdown",
   "metadata": {},
   "source": [
    "## Building the Network Architecture\n",
    "\n",
    "For our purposes, we will build a multilayered perceptron with $L$ layers, $784$ input neurons, $L-2$ hidden layers of arbitrary size, and $10$ neurons in the output layer. \n",
    "\n",
    "For our activation function, we will use the sigmoid function:\n",
    "* Sigmoid Function\n",
    "$$\n",
    "\\sigma(s) = \\frac{1}{1+e^{-s}}.\n",
    "$$\n",
    "\n",
    "![Multi-layer Perceptron](multilayerPerceptron.jpg)\n",
    "\n",
    "For $l = 2, \\dots, L$, each layer $l$ in our network will have two phases, the preactivation phase$$z^l = W^la^{l-1} + b^l,$$and postactivation phase$$a^l = \\sigma(z^l).$$The preactivation phase consists of a weighted linear combination of postactivation values in the previous layer. The postactivation values consists of passing the preactivation value through an activation function elementwise. Note $a^1 = x^{(i)}$, where $x^{(i)}$ is the current input feature vector of our network. \n",
    "\n",
    "For a given training instance $(x^{(i)}, y^{(i)}),$ we will use the Mean Square Error cost for our cost function: \n",
    "\n",
    "$$\n",
    "C = C(W, b) = \\frac{1}{2}\\sum_{k=1}^n(a_k^L - y_k^{(i)})^2.\n",
    "$$\n",
    "\n",
    "Here $n=10$ is the size of our output layer. "
   ]
  },
  {
   "cell_type": "code",
   "execution_count": 17,
   "metadata": {},
   "outputs": [
    {
     "data": {
      "text/plain": [
       "create_network (generic function with 1 method)"
      ]
     },
     "execution_count": 17,
     "metadata": {},
     "output_type": "execute_result"
    }
   ],
   "source": [
    "# Define the activation function and its derivative\n",
    "## Define the sigmoid function\n",
    "σ(x) = 1.0/(1.0 + exp(-x))\n",
    "\n",
    "## Define the derivative of the sigmoid function\n",
    "dσ(x) = σ(x)*(1.0 - σ(x))\n",
    "\n",
    "# Define a neural network type \n",
    "mutable struct neural_network\n",
    "    W\n",
    "    b\n",
    "end\n",
    "\n",
    "function create_network(input_layer_size, hidden_layer_sizes, output_layer_size)\n",
    "    W = [[0.0], randn(hidden_layer_sizes[1], input_layer_size)]\n",
    "    b = [[0.0], randn(hidden_layer_sizes[1])]\n",
    "    \n",
    "    for i = 2:length(hidden_layer_sizes)\n",
    "        push!(W, randn(hidden_layer_sizes[i], hidden_layer_sizes[i-1]))\n",
    "        push!(b, randn(hidden_layer_sizes[i]))\n",
    "    end\n",
    "    \n",
    "    push!(W, randn(output_layer_size, hidden_layer_sizes[end]))\n",
    "    push!(b, randn(output_layer_size))\n",
    "    \n",
    "    return neural_network(W, b)\n",
    "end"
   ]
  },
  {
   "cell_type": "code",
   "execution_count": 18,
   "metadata": {},
   "outputs": [
    {
     "data": {
      "text/plain": [
       "neural_network(Array{Float64,N} where N[[0.0], [-1.1123802231260982 0.4347725954129352 … 0.5792170340175226 1.8753654818790204; -1.556446840553762 -1.0248230775671312 … 2.231289982641541 -0.6868229370654111; … ; -0.9083383833664456 0.23932511516814717 … -0.14407474590877406 1.4423775396585072; -0.9030656337743164 -0.8327125578275809 … 0.7420202892845317 0.013651040127985906], [-1.911005668932279 -0.000725052374097794 … -0.35869914294390765 -0.7243418795047197; 0.008566649427737395 -3.619080458333703 … -0.9008692463984522 -0.8649929531841795; … ; 1.5270079866767867 0.3900331284876632 … 0.0030500050823235093 0.08751273803453183; 0.04593789558564245 0.1290524274252913 … -0.7229890622053557 0.3704568522335142], [-0.1348873133611347 -0.5472035346369668 … 1.474310759104941 -1.3485016217242505; 0.006873842993036479 -0.7092916632095694 … 0.5080543598239289 0.034257300901952815; … ; -1.295996156353902 0.31895029572872896 … -1.1990852096662263 -1.5310718953873315; -0.8784647440448083 -0.20846961720346108 … 1.0483593316324855 1.0334329666549649], [0.9226302644470797 0.6479092103395474 … 1.263496805063681 -1.5841868706385607; 0.9613494051143964 -1.507687475944443 … -1.2338848793220563 0.11049933324734101; … ; 0.1205922327077739 -0.06605683368252513 … -1.056045557349981 0.5770264439106106; 0.5946529529785272 0.73063128039 … 0.7817278541783641 1.0687336001711578]], [[0.0], [0.02512968049357752, -0.4716407569346034, 0.3900932805173733, 0.884556907565213, -0.5743191237973417, 0.5206699170666522, -0.1721097389537644, 0.14109020392937638, -0.736205604993175, 0.9074747324844741  …  -1.5629405643210401, 0.16163806040052964, 0.30484272515962463, -0.11154280717008574, -0.8991253752013845, -0.6546096844558811, 0.9497818989114215, 0.9692744614025341, -1.1509376804475144, -0.26395825675846163], [-0.8429930745330331, -0.4651130609730785, -1.1781890310913434, -0.7485218947986829, 0.1716544690963067, 0.8205663030082959, -0.34853528236222464, -1.704423383884232, 0.5862266926666723, 0.9901731104405919  …  0.38549091834312493, 1.4289093066592742, 1.1587820770684116, -0.29293475197561825, -0.40052283648488896, -0.8854296320300644, -1.0344738161458122, -0.012066307857479298, 1.5504543833180717, 1.484474399433517], [0.4243994534691331, 1.5792071961270162, 0.21739143631913624, -0.1901402349375886, 1.261044563351174, -0.35911316753495504, 0.19534831052522092, -1.105982561458538, 0.17321664028619804, -0.5764187002755031  …  -1.4770063149999704, 0.5265084213637211, 1.4570525335575955, 1.9688077269268904, 1.176130648717329, -0.007251823611295365, -1.0557842454636188, 0.3038645003488415, 0.3171432582615879, -0.2003479048009173], [1.8621910647355515, 0.14661549018170397, -0.3717513118108748, -0.5359728875197218, -0.8120283374225469, -0.39326899506180824, -1.1334423599191366, -0.28574910954163546, -0.7629046120121306, 1.6415244159439435]])"
      ]
     },
     "execution_count": 18,
     "metadata": {},
     "output_type": "execute_result"
    }
   ],
   "source": [
    "# Test the function above\n",
    "NN = create_network(784, [100, 100, 100], 10)"
   ]
  },
  {
   "cell_type": "code",
   "execution_count": 21,
   "metadata": {},
   "outputs": [
    {
     "data": {
      "text/plain": [
       "5-element Array{Array{Float64,N} where N,1}:\n",
       " [0.0]\n",
       " [-1.1123802231260982 0.4347725954129352 … 0.5792170340175226 1.8753654818790204; -1.556446840553762 -1.0248230775671312 … 2.231289982641541 -0.6868229370654111; … ; -0.9083383833664456 0.23932511516814717 … -0.14407474590877406 1.4423775396585072; -0.9030656337743164 -0.8327125578275809 … 0.7420202892845317 0.013651040127985906]\n",
       " [-1.911005668932279 -0.000725052374097794 … -0.35869914294390765 -0.7243418795047197; 0.008566649427737395 -3.619080458333703 … -0.9008692463984522 -0.8649929531841795; … ; 1.5270079866767867 0.3900331284876632 … 0.0030500050823235093 0.08751273803453183; 0.04593789558564245 0.1290524274252913 … -0.7229890622053557 0.3704568522335142]\n",
       " [-0.1348873133611347 -0.5472035346369668 … 1.474310759104941 -1.3485016217242505; 0.006873842993036479 -0.7092916632095694 … 0.5080543598239289 0.034257300901952815; … ; -1.295996156353902 0.31895029572872896 … -1.1990852096662263 -1.5310718953873315; -0.8784647440448083 -0.20846961720346108 … 1.0483593316324855 1.0334329666549649]\n",
       " [0.9226302644470797 0.6479092103395474 … 1.263496805063681 -1.5841868706385607; 0.9613494051143964 -1.507687475944443 … -1.2338848793220563 0.11049933324734101; … ; 0.1205922327077739 -0.06605683368252513 … -1.056045557349981 0.5770264439106106; 0.5946529529785272 0.73063128039 … 0.7817278541783641 1.0687336001711578]"
      ]
     },
     "execution_count": 21,
     "metadata": {},
     "output_type": "execute_result"
    }
   ],
   "source": [
    "# Access elements of W (weights)\n",
    "NN.W"
   ]
  },
  {
   "cell_type": "code",
   "execution_count": 19,
   "metadata": {
    "scrolled": false
   },
   "outputs": [
    {
     "data": {
      "text/plain": [
       "5-element Array{Array{Float64,1},1}:\n",
       " [0.0]\n",
       " [0.02512968049357752, -0.4716407569346034, 0.3900932805173733, 0.884556907565213, -0.5743191237973417, 0.5206699170666522, -0.1721097389537644, 0.14109020392937638, -0.736205604993175, 0.9074747324844741  …  -1.5629405643210401, 0.16163806040052964, 0.30484272515962463, -0.11154280717008574, -0.8991253752013845, -0.6546096844558811, 0.9497818989114215, 0.9692744614025341, -1.1509376804475144, -0.26395825675846163]\n",
       " [-0.8429930745330331, -0.4651130609730785, -1.1781890310913434, -0.7485218947986829, 0.1716544690963067, 0.8205663030082959, -0.34853528236222464, -1.704423383884232, 0.5862266926666723, 0.9901731104405919  …  0.38549091834312493, 1.4289093066592742, 1.1587820770684116, -0.29293475197561825, -0.40052283648488896, -0.8854296320300644, -1.0344738161458122, -0.012066307857479298, 1.5504543833180717, 1.484474399433517]\n",
       " [0.4243994534691331, 1.5792071961270162, 0.21739143631913624, -0.1901402349375886, 1.261044563351174, -0.35911316753495504, 0.19534831052522092, -1.105982561458538, 0.17321664028619804, -0.5764187002755031  …  -1.4770063149999704, 0.5265084213637211, 1.4570525335575955, 1.9688077269268904, 1.176130648717329, -0.007251823611295365, -1.0557842454636188, 0.3038645003488415, 0.3171432582615879, -0.2003479048009173]\n",
       " [1.8621910647355515, 0.14661549018170397, -0.3717513118108748, -0.5359728875197218, -0.8120283374225469, -0.39326899506180824, -1.1334423599191366, -0.28574910954163546, -0.7629046120121306, 1.6415244159439435]"
      ]
     },
     "execution_count": 19,
     "metadata": {},
     "output_type": "execute_result"
    }
   ],
   "source": [
    "# Access elements of b (biases)\n",
    "NN.b"
   ]
  },
  {
   "cell_type": "code",
   "execution_count": 20,
   "metadata": {},
   "outputs": [
    {
     "name": "stdout",
     "output_type": "stream",
     "text": [
      "(1,)\n",
      "\n",
      "(100, 784)\n",
      "\n",
      "(100, 100)\n",
      "\n",
      "(100, 100)\n",
      "\n",
      "(10, 100)\n",
      "\n"
     ]
    }
   ],
   "source": [
    "# To look at the dimensions of the network\n",
    "for w in NN.W\n",
    "    println(size(w))\n",
    "    println(\"\")\n",
    "end"
   ]
  },
  {
   "cell_type": "code",
   "execution_count": 35,
   "metadata": {},
   "outputs": [
    {
     "data": {
      "text/plain": [
       "success_percentage (generic function with 1 method)"
      ]
     },
     "execution_count": 35,
     "metadata": {},
     "output_type": "execute_result"
    }
   ],
   "source": [
    "# Define feedforward pass of the network \n",
    "function forward_pass(network, training_instance)\n",
    "    Z = [[0.0]]\n",
    "    A = [training_instance[1]]\n",
    "    \n",
    "    for i = 2:length(network.W) # number of layers\n",
    "        push!(Z, network.W[i]*A[i-1] + network.b[i])\n",
    "        push!(A, σ.(Z[i]))\n",
    "    end\n",
    "    \n",
    "    return Z, A\n",
    "end\n",
    "\n",
    "# Define the predicted outcome of the network with a function\n",
    "function predict(network, training_instance)\n",
    "    Z, A = forward_pass(network, training_instance)\n",
    "    return argmax(A[end])- 1 # the index of the highest value in A\n",
    "end\n",
    "\n",
    "# Define a function to test the accuracy of our predictions\n",
    "function success_percentage(network, data_set)\n",
    "   return string(\"The percentage of correctly classified images is: \", sum(predict(network, x) == argmax(x[2]) - 1 ? 1 : 0 for x in data_set)/length(data_set)*100.0, \"%\") \n",
    "end"
   ]
  },
  {
   "cell_type": "code",
   "execution_count": 36,
   "metadata": {},
   "outputs": [
    {
     "data": {
      "text/plain": [
       "\"The percentage of correctly classified images is: 10.05%\""
      ]
     },
     "execution_count": 36,
     "metadata": {},
     "output_type": "execute_result"
    }
   ],
   "source": [
    "# Test function above\n",
    "success_percentage(NN, test_data)"
   ]
  },
  {
   "cell_type": "markdown",
   "metadata": {},
   "source": [
    "---\n",
    "\n",
    "This means that without having trained our data yet, we are already at 10% accuracy. \n",
    "\n",
    "---"
   ]
  },
  {
   "cell_type": "code",
   "execution_count": 42,
   "metadata": {},
   "outputs": [
    {
     "data": {
      "text/plain": [
       "error_deltas (generic function with 1 method)"
      ]
     },
     "execution_count": 42,
     "metadata": {},
     "output_type": "execute_result"
    }
   ],
   "source": [
    "function error_deltas(network, training_instance)\n",
    "    L = length(network.W) # number of layers\n",
    "    Z, A = forward_pass(network, training_instance)\n",
    "    δ = [ (A[end] - training_instance[2]).*dσ.(Z[end]) ]\n",
    "        \n",
    "    for i = L-1:-1:2\n",
    "        pushfirst!(δ, (network.W[i+1]'*δ[1]).*dσ.(Z[i]))\n",
    "    end\n",
    "    \n",
    "    pushfirst!(δ, [0.0])\n",
    "    return A, δ\n",
    "end"
   ]
  },
  {
   "cell_type": "code",
   "execution_count": 46,
   "metadata": {
    "scrolled": true
   },
   "outputs": [
    {
     "data": {
      "text/plain": [
       "(Array{Normed{UInt8,8},1}[[0.0N0f8, 0.0N0f8, 0.0N0f8, 0.0N0f8, 0.0N0f8, 0.0N0f8, 0.0N0f8, 0.0N0f8, 0.0N0f8, 0.0N0f8  …  0.0N0f8, 0.0N0f8, 0.0N0f8, 0.0N0f8, 0.0N0f8, 0.0N0f8, 0.0N0f8, 0.0N0f8, 0.0N0f8, 0.0N0f8], [0.0N0f8, 1.0N0f8, 0.0N0f8, 0.651N0f8, 0.0N0f8, 0.0N0f8, 0.824N0f8, 0.016N0f8, 1.0N0f8, 0.004N0f8  …  0.0N0f8, 0.0N0f8, 0.0N0f8, 1.0N0f8, 0.067N0f8, 1.0N0f8, 0.004N0f8, 1.0N0f8, 0.0N0f8, 0.6N0f8], [0.0N0f8, 1.0N0f8, 0.988N0f8, 0.0N0f8, 0.0N0f8, 0.855N0f8, 0.059N0f8, 0.922N0f8, 0.082N0f8, 1.0N0f8  …  0.651N0f8, 0.0N0f8, 0.953N0f8, 1.0N0f8, 0.0N0f8, 0.008N0f8, 0.871N0f8, 0.133N0f8, 0.996N0f8, 0.129N0f8], [0.2N0f8, 0.0N0f8, 0.976N0f8, 0.0N0f8, 0.0N0f8, 1.0N0f8, 0.576N0f8, 0.314N0f8, 0.992N0f8, 0.271N0f8  …  0.0N0f8, 1.0N0f8, 0.0N0f8, 1.0N0f8, 1.0N0f8, 0.004N0f8, 0.094N0f8, 0.0N0f8, 0.008N0f8, 0.0N0f8], [0.835N0f8, 0.0N0f8, 0.0N0f8, 0.071N0f8, 0.992N0f8, 0.996N0f8, 0.51N0f8, 1.0N0f8, 0.898N0f8, 1.0N0f8]], [[0.0], [3.9257444568427374e-8, -4.7060021011353394e-8, 1.4201833340645675e-9, 0.019779110023708083, 2.4653700743436584e-6, -1.9151736952641215e-7, -0.02740893287073447, -0.008225808111658099, -2.1187155881106406e-5, -0.000732076228751457  …  2.063538641185451e-7, 1.0738952410888004e-8, -3.942306092211651e-6, 2.621422058600466e-8, -0.012354939290655715, -9.335945618548894e-9, 0.00032334185406974634, 0.00034928999708275547, 4.5740596504157036e-7, -0.04305824906325779], [-2.1198519083986006e-8, 4.76835770984371e-5, -0.0025996538565170547, -1.6187359820681215e-5, -4.490634995268335e-5, -0.0404055601612809, -0.011775729993513829, 0.00821328655689015, -0.005831423024948952, -0.0005358132995374415  …  -0.05774979572797258, 2.6146945510568177e-6, -0.01424124924687591, -2.6413919694883455e-5, -2.8928933229838e-7, -0.002608508899431733, -0.00624697204438971, -0.024026201313651272, 0.001154788139624525, -0.0015560738439176934], [0.04933712571645737, -7.758400564265032e-5, -0.0026784876830566865, 1.9011196211982786e-6, 2.3625416773941e-7, 2.5848527705996204e-5, -0.024832135681720713, -0.03660486044233073, -0.0009809490878241647, -0.005501214837096357  …  -3.3484891999129957e-6, 1.5303258925036406e-5, -5.1745536394854254e-5, 0.00014511198775290216, 0.0001493903783498992, 3.414918007666424e-5, 0.003962803791714979, 6.88276436712603e-5, -0.0002034133291812707, -1.5010299457465139e-5], [0.11518278007731018, 0.0, 0.0, 0.004602164143018406, 0.006289850211743142, -1.757150040346731e-5, 0.1274102825525214, 8.645521274577815e-5, 0.08199089954310082, 0.0002455885907050107]])"
      ]
     },
     "execution_count": 46,
     "metadata": {},
     "output_type": "execute_result"
    }
   ],
   "source": [
    "# Test function above\n",
    "A_test, δ_test = error_deltas(NN, train_data[1])"
   ]
  },
  {
   "cell_type": "code",
   "execution_count": 47,
   "metadata": {},
   "outputs": [
    {
     "data": {
      "text/plain": [
       "10-element Array{Float64,1}:\n",
       "  0.11518278007731018\n",
       "  0.0\n",
       "  0.0\n",
       "  0.004602164143018406\n",
       "  0.006289850211743142\n",
       " -1.757150040346731e-5\n",
       "  0.1274102825525214\n",
       "  8.645521274577815e-5\n",
       "  0.08199089954310082\n",
       "  0.0002455885907050107"
      ]
     },
     "execution_count": 47,
     "metadata": {},
     "output_type": "execute_result"
    }
   ],
   "source": [
    "# Verify output is a 10 dimension vector\n",
    "δ_test[end] "
   ]
  },
  {
   "cell_type": "markdown",
   "metadata": {},
   "source": [
    "---\n",
    "\n",
    "#### Now we need to write a function to ... mini batch\n",
    "\n",
    "---"
   ]
  },
  {
   "cell_type": "code",
   "execution_count": 60,
   "metadata": {},
   "outputs": [],
   "source": [
    "function make_random_mini_batch(mini_batch_size, data_set)\n",
    "    k = rand(1:length(data_set) - mini_batch_size)\n",
    "    return data_set[k:k + mini_batch_size]\n",
    "end\n",
    "\n",
    "function mini_batch_update!(network, mini_batch_size, data_set, α)\n",
    "    \n",
    "    mini_batch = make_random_mini_batch(mini_batch_size, data_set)\n",
    "    L = length(network.W)\n",
    "    \n",
    "    A, δ = error_deltas(network, mini_batch[1])\n",
    "    A_batch = []\n",
    "    δ_batch = []\n",
    "    push!(A_batch, A)\n",
    "    push!(δ_batch, δ)\n",
    "    \n",
    "    for i = 2:mini_batch_size\n",
    "        A, δ = error_deltas(network, mini_batch[i])\n",
    "        push!(A_batch, A)\n",
    "        push!(δ_batch, δ) \n",
    "    end\n",
    "    \n",
    "    # update weights and biases\n",
    "    for l = L:-1:2\n",
    "        network.W[l] -= (α/mini_batch_size)*sum([δ_batch[i][l]*A_batch[i][l-1]' for i = 1:mini_batch_size])\n",
    "        network.b[l] -= (α/mini_batch_size)*sum([δ_batch[i][l] for i = 1:mini_batch_size])\n",
    "    end\n",
    "end;"
   ]
  },
  {
   "cell_type": "markdown",
   "metadata": {},
   "source": [
    "---\n",
    "\n",
    "#### Now it's time to train the data. The following two cells are run several times changing the batch size and learning level $\\alpha$ until the desired success rate is reached.\n",
    "\n",
    "---"
   ]
  },
  {
   "cell_type": "code",
   "execution_count": 136,
   "metadata": {},
   "outputs": [],
   "source": [
    "# Training data\n",
    "for _ = 1:60000\n",
    "    mini_batch_update!(NN, 5, train_data, 0.1)\n",
    "end"
   ]
  },
  {
   "cell_type": "code",
   "execution_count": 137,
   "metadata": {},
   "outputs": [
    {
     "data": {
      "text/plain": [
       "\"The percentage of correctly classified images is: 96.02000000000001%\""
      ]
     },
     "execution_count": 137,
     "metadata": {},
     "output_type": "execute_result"
    }
   ],
   "source": [
    "#Now, let's check our error rate on test_data\n",
    "success_percentage(NN, test_data)"
   ]
  },
  {
   "cell_type": "markdown",
   "metadata": {},
   "source": [
    "---\n",
    "\n",
    "#### Now that the data has been trained, to visualize we include the following functions and run the code cell that follows a few times to see how well our predictions are doing. \n",
    "\n",
    "---"
   ]
  },
  {
   "cell_type": "code",
   "execution_count": 78,
   "metadata": {},
   "outputs": [
    {
     "data": {
      "text/plain": [
       "show_test_example (generic function with 1 method)"
      ]
     },
     "execution_count": 78,
     "metadata": {},
     "output_type": "execute_result"
    }
   ],
   "source": [
    "# Fun ways to visualize images\n",
    "## Training functions\n",
    "function show_training_img(i)\n",
    "    colorview(Gray, train_x[:,:,i]')\n",
    "end\n",
    "\n",
    "function show_train_example(network, i, training_data)\n",
    "    println(\"Predicted Label: \", predict(network, training_data[i]))\n",
    "    println(\"Actual Label: \", argmax(training_data[i][2]) - 1)\n",
    "    show_training_img(i)\n",
    "end\n",
    "\n",
    "## Testing functions\n",
    "function show_test_img(i)\n",
    "    colorview(Gray, test_x[:,:,i]')\n",
    "end\n",
    "\n",
    "function show_test_example(network, i, testing_data)\n",
    "    println(\"Predicted Label: \", predict(network, testing_data[i]))\n",
    "    println(\"Actual Label: \", argmax(testing_data[i][2]) - 1)\n",
    "    show_test_img(i)\n",
    "end"
   ]
  },
  {
   "cell_type": "code",
   "execution_count": 92,
   "metadata": {
    "scrolled": true
   },
   "outputs": [
    {
     "name": "stdout",
     "output_type": "stream",
     "text": [
      "Predicted Label: 9\n",
      "Actual Label: 9\n"
     ]
    },
    {
     "data": {
      "image/png": "[encoded data removed]",
      "text/plain": [
       "28×28 reinterpret(Gray{N0f8}, ::LinearAlgebra.Adjoint{Normed{UInt8,8},Array{Normed{UInt8,8},2}}):\n",
       " Gray{N0f8}(0.0)  Gray{N0f8}(0.0)  …  Gray{N0f8}(0.0)  Gray{N0f8}(0.0)\n",
       " Gray{N0f8}(0.0)  Gray{N0f8}(0.0)     Gray{N0f8}(0.0)  Gray{N0f8}(0.0)\n",
       " Gray{N0f8}(0.0)  Gray{N0f8}(0.0)     Gray{N0f8}(0.0)  Gray{N0f8}(0.0)\n",
       " Gray{N0f8}(0.0)  Gray{N0f8}(0.0)     Gray{N0f8}(0.0)  Gray{N0f8}(0.0)\n",
       " Gray{N0f8}(0.0)  Gray{N0f8}(0.0)     Gray{N0f8}(0.0)  Gray{N0f8}(0.0)\n",
       " Gray{N0f8}(0.0)  Gray{N0f8}(0.0)  …  Gray{N0f8}(0.0)  Gray{N0f8}(0.0)\n",
       " Gray{N0f8}(0.0)  Gray{N0f8}(0.0)     Gray{N0f8}(0.0)  Gray{N0f8}(0.0)\n",
       " Gray{N0f8}(0.0)  Gray{N0f8}(0.0)     Gray{N0f8}(0.0)  Gray{N0f8}(0.0)\n",
       " Gray{N0f8}(0.0)  Gray{N0f8}(0.0)     Gray{N0f8}(0.0)  Gray{N0f8}(0.0)\n",
       " Gray{N0f8}(0.0)  Gray{N0f8}(0.0)     Gray{N0f8}(0.0)  Gray{N0f8}(0.0)\n",
       " Gray{N0f8}(0.0)  Gray{N0f8}(0.0)  …  Gray{N0f8}(0.0)  Gray{N0f8}(0.0)\n",
       " Gray{N0f8}(0.0)  Gray{N0f8}(0.0)     Gray{N0f8}(0.0)  Gray{N0f8}(0.0)\n",
       " Gray{N0f8}(0.0)  Gray{N0f8}(0.0)     Gray{N0f8}(0.0)  Gray{N0f8}(0.0)\n",
       " ⋮                                 ⋱                   \n",
       " Gray{N0f8}(0.0)  Gray{N0f8}(0.0)     Gray{N0f8}(0.0)  Gray{N0f8}(0.0)\n",
       " Gray{N0f8}(0.0)  Gray{N0f8}(0.0)     Gray{N0f8}(0.0)  Gray{N0f8}(0.0)\n",
       " Gray{N0f8}(0.0)  Gray{N0f8}(0.0)     Gray{N0f8}(0.0)  Gray{N0f8}(0.0)\n",
       " Gray{N0f8}(0.0)  Gray{N0f8}(0.0)     Gray{N0f8}(0.0)  Gray{N0f8}(0.0)\n",
       " Gray{N0f8}(0.0)  Gray{N0f8}(0.0)  …  Gray{N0f8}(0.0)  Gray{N0f8}(0.0)\n",
       " Gray{N0f8}(0.0)  Gray{N0f8}(0.0)     Gray{N0f8}(0.0)  Gray{N0f8}(0.0)\n",
       " Gray{N0f8}(0.0)  Gray{N0f8}(0.0)     Gray{N0f8}(0.0)  Gray{N0f8}(0.0)\n",
       " Gray{N0f8}(0.0)  Gray{N0f8}(0.0)     Gray{N0f8}(0.0)  Gray{N0f8}(0.0)\n",
       " Gray{N0f8}(0.0)  Gray{N0f8}(0.0)     Gray{N0f8}(0.0)  Gray{N0f8}(0.0)\n",
       " Gray{N0f8}(0.0)  Gray{N0f8}(0.0)  …  Gray{N0f8}(0.0)  Gray{N0f8}(0.0)\n",
       " Gray{N0f8}(0.0)  Gray{N0f8}(0.0)     Gray{N0f8}(0.0)  Gray{N0f8}(0.0)\n",
       " Gray{N0f8}(0.0)  Gray{N0f8}(0.0)     Gray{N0f8}(0.0)  Gray{N0f8}(0.0)"
      ]
     },
     "execution_count": 92,
     "metadata": {},
     "output_type": "execute_result"
    }
   ],
   "source": [
    "i = rand([x for x = 1:10000])\n",
    "show_test_example(NN, i, test_data)"
   ]
  },
  {
   "cell_type": "code",
   "execution_count": 109,
   "metadata": {},
   "outputs": [
    {
     "name": "stdout",
     "output_type": "stream",
     "text": [
      "Predicted Label: 4\n",
      "Actual Label: 4\n"
     ]
    },
    {
     "data": {
      "image/png": "[encoded data removed]",
      "text/plain": [
       "28×28 reinterpret(Gray{N0f8}, ::LinearAlgebra.Adjoint{Normed{UInt8,8},Array{Normed{UInt8,8},2}}):\n",
       " Gray{N0f8}(0.0)  Gray{N0f8}(0.0)  …  Gray{N0f8}(0.0)  Gray{N0f8}(0.0)\n",
       " Gray{N0f8}(0.0)  Gray{N0f8}(0.0)     Gray{N0f8}(0.0)  Gray{N0f8}(0.0)\n",
       " Gray{N0f8}(0.0)  Gray{N0f8}(0.0)     Gray{N0f8}(0.0)  Gray{N0f8}(0.0)\n",
       " Gray{N0f8}(0.0)  Gray{N0f8}(0.0)     Gray{N0f8}(0.0)  Gray{N0f8}(0.0)\n",
       " Gray{N0f8}(0.0)  Gray{N0f8}(0.0)     Gray{N0f8}(0.0)  Gray{N0f8}(0.0)\n",
       " Gray{N0f8}(0.0)  Gray{N0f8}(0.0)  …  Gray{N0f8}(0.0)  Gray{N0f8}(0.0)\n",
       " Gray{N0f8}(0.0)  Gray{N0f8}(0.0)     Gray{N0f8}(0.0)  Gray{N0f8}(0.0)\n",
       " Gray{N0f8}(0.0)  Gray{N0f8}(0.0)     Gray{N0f8}(0.0)  Gray{N0f8}(0.0)\n",
       " Gray{N0f8}(0.0)  Gray{N0f8}(0.0)     Gray{N0f8}(0.0)  Gray{N0f8}(0.0)\n",
       " Gray{N0f8}(0.0)  Gray{N0f8}(0.0)     Gray{N0f8}(0.0)  Gray{N0f8}(0.0)\n",
       " Gray{N0f8}(0.0)  Gray{N0f8}(0.0)  …  Gray{N0f8}(0.0)  Gray{N0f8}(0.0)\n",
       " Gray{N0f8}(0.0)  Gray{N0f8}(0.0)     Gray{N0f8}(0.0)  Gray{N0f8}(0.0)\n",
       " Gray{N0f8}(0.0)  Gray{N0f8}(0.0)     Gray{N0f8}(0.0)  Gray{N0f8}(0.0)\n",
       " ⋮                                 ⋱                   \n",
       " Gray{N0f8}(0.0)  Gray{N0f8}(0.0)     Gray{N0f8}(0.0)  Gray{N0f8}(0.0)\n",
       " Gray{N0f8}(0.0)  Gray{N0f8}(0.0)     Gray{N0f8}(0.0)  Gray{N0f8}(0.0)\n",
       " Gray{N0f8}(0.0)  Gray{N0f8}(0.0)     Gray{N0f8}(0.0)  Gray{N0f8}(0.0)\n",
       " Gray{N0f8}(0.0)  Gray{N0f8}(0.0)     Gray{N0f8}(0.0)  Gray{N0f8}(0.0)\n",
       " Gray{N0f8}(0.0)  Gray{N0f8}(0.0)  …  Gray{N0f8}(0.0)  Gray{N0f8}(0.0)\n",
       " Gray{N0f8}(0.0)  Gray{N0f8}(0.0)     Gray{N0f8}(0.0)  Gray{N0f8}(0.0)\n",
       " Gray{N0f8}(0.0)  Gray{N0f8}(0.0)     Gray{N0f8}(0.0)  Gray{N0f8}(0.0)\n",
       " Gray{N0f8}(0.0)  Gray{N0f8}(0.0)     Gray{N0f8}(0.0)  Gray{N0f8}(0.0)\n",
       " Gray{N0f8}(0.0)  Gray{N0f8}(0.0)     Gray{N0f8}(0.0)  Gray{N0f8}(0.0)\n",
       " Gray{N0f8}(0.0)  Gray{N0f8}(0.0)  …  Gray{N0f8}(0.0)  Gray{N0f8}(0.0)\n",
       " Gray{N0f8}(0.0)  Gray{N0f8}(0.0)     Gray{N0f8}(0.0)  Gray{N0f8}(0.0)\n",
       " Gray{N0f8}(0.0)  Gray{N0f8}(0.0)     Gray{N0f8}(0.0)  Gray{N0f8}(0.0)"
      ]
     },
     "execution_count": 109,
     "metadata": {},
     "output_type": "execute_result"
    }
   ],
   "source": [
    "i = rand([x for x = 1:10000])\n",
    "show_test_example(NN, i, test_data)"
   ]
  },
  {
   "cell_type": "code",
   "execution_count": 117,
   "metadata": {},
   "outputs": [
    {
     "name": "stdout",
     "output_type": "stream",
     "text": [
      "Predicted Label: 3\n",
      "Actual Label: 3\n"
     ]
    },
    {
     "data": {
      "image/png": "[encoded data removed]",
      "text/plain": [
       "28×28 reinterpret(Gray{N0f8}, ::LinearAlgebra.Adjoint{Normed{UInt8,8},Array{Normed{UInt8,8},2}}):\n",
       " Gray{N0f8}(0.0)  Gray{N0f8}(0.0)  …  Gray{N0f8}(0.0)  Gray{N0f8}(0.0)\n",
       " Gray{N0f8}(0.0)  Gray{N0f8}(0.0)     Gray{N0f8}(0.0)  Gray{N0f8}(0.0)\n",
       " Gray{N0f8}(0.0)  Gray{N0f8}(0.0)     Gray{N0f8}(0.0)  Gray{N0f8}(0.0)\n",
       " Gray{N0f8}(0.0)  Gray{N0f8}(0.0)     Gray{N0f8}(0.0)  Gray{N0f8}(0.0)\n",
       " Gray{N0f8}(0.0)  Gray{N0f8}(0.0)     Gray{N0f8}(0.0)  Gray{N0f8}(0.0)\n",
       " Gray{N0f8}(0.0)  Gray{N0f8}(0.0)  …  Gray{N0f8}(0.0)  Gray{N0f8}(0.0)\n",
       " Gray{N0f8}(0.0)  Gray{N0f8}(0.0)     Gray{N0f8}(0.0)  Gray{N0f8}(0.0)\n",
       " Gray{N0f8}(0.0)  Gray{N0f8}(0.0)     Gray{N0f8}(0.0)  Gray{N0f8}(0.0)\n",
       " Gray{N0f8}(0.0)  Gray{N0f8}(0.0)     Gray{N0f8}(0.0)  Gray{N0f8}(0.0)\n",
       " Gray{N0f8}(0.0)  Gray{N0f8}(0.0)     Gray{N0f8}(0.0)  Gray{N0f8}(0.0)\n",
       " Gray{N0f8}(0.0)  Gray{N0f8}(0.0)  …  Gray{N0f8}(0.0)  Gray{N0f8}(0.0)\n",
       " Gray{N0f8}(0.0)  Gray{N0f8}(0.0)     Gray{N0f8}(0.0)  Gray{N0f8}(0.0)\n",
       " Gray{N0f8}(0.0)  Gray{N0f8}(0.0)     Gray{N0f8}(0.0)  Gray{N0f8}(0.0)\n",
       " ⋮                                 ⋱                   \n",
       " Gray{N0f8}(0.0)  Gray{N0f8}(0.0)     Gray{N0f8}(0.0)  Gray{N0f8}(0.0)\n",
       " Gray{N0f8}(0.0)  Gray{N0f8}(0.0)     Gray{N0f8}(0.0)  Gray{N0f8}(0.0)\n",
       " Gray{N0f8}(0.0)  Gray{N0f8}(0.0)     Gray{N0f8}(0.0)  Gray{N0f8}(0.0)\n",
       " Gray{N0f8}(0.0)  Gray{N0f8}(0.0)     Gray{N0f8}(0.0)  Gray{N0f8}(0.0)\n",
       " Gray{N0f8}(0.0)  Gray{N0f8}(0.0)  …  Gray{N0f8}(0.0)  Gray{N0f8}(0.0)\n",
       " Gray{N0f8}(0.0)  Gray{N0f8}(0.0)     Gray{N0f8}(0.0)  Gray{N0f8}(0.0)\n",
       " Gray{N0f8}(0.0)  Gray{N0f8}(0.0)     Gray{N0f8}(0.0)  Gray{N0f8}(0.0)\n",
       " Gray{N0f8}(0.0)  Gray{N0f8}(0.0)     Gray{N0f8}(0.0)  Gray{N0f8}(0.0)\n",
       " Gray{N0f8}(0.0)  Gray{N0f8}(0.0)     Gray{N0f8}(0.0)  Gray{N0f8}(0.0)\n",
       " Gray{N0f8}(0.0)  Gray{N0f8}(0.0)  …  Gray{N0f8}(0.0)  Gray{N0f8}(0.0)\n",
       " Gray{N0f8}(0.0)  Gray{N0f8}(0.0)     Gray{N0f8}(0.0)  Gray{N0f8}(0.0)\n",
       " Gray{N0f8}(0.0)  Gray{N0f8}(0.0)     Gray{N0f8}(0.0)  Gray{N0f8}(0.0)"
      ]
     },
     "execution_count": 117,
     "metadata": {},
     "output_type": "execute_result"
    }
   ],
   "source": [
    "i = rand([x for x = 1:10000])\n",
    "show_test_example(NN, i, test_data)"
   ]
  },
  {
   "cell_type": "code",
   "execution_count": 115,
   "metadata": {},
   "outputs": [
    {
     "name": "stdout",
     "output_type": "stream",
     "text": [
      "Predicted Label: 8\n",
      "Actual Label: 8\n"
     ]
    },
    {
     "data": {
      "image/png": "[encoded data removed]",
      "text/plain": [
       "28×28 reinterpret(Gray{N0f8}, ::LinearAlgebra.Adjoint{Normed{UInt8,8},Array{Normed{UInt8,8},2}}):\n",
       " Gray{N0f8}(0.0)  Gray{N0f8}(0.0)  …  Gray{N0f8}(0.0)  Gray{N0f8}(0.0)\n",
       " Gray{N0f8}(0.0)  Gray{N0f8}(0.0)     Gray{N0f8}(0.0)  Gray{N0f8}(0.0)\n",
       " Gray{N0f8}(0.0)  Gray{N0f8}(0.0)     Gray{N0f8}(0.0)  Gray{N0f8}(0.0)\n",
       " Gray{N0f8}(0.0)  Gray{N0f8}(0.0)     Gray{N0f8}(0.0)  Gray{N0f8}(0.0)\n",
       " Gray{N0f8}(0.0)  Gray{N0f8}(0.0)     Gray{N0f8}(0.0)  Gray{N0f8}(0.0)\n",
       " Gray{N0f8}(0.0)  Gray{N0f8}(0.0)  …  Gray{N0f8}(0.0)  Gray{N0f8}(0.0)\n",
       " Gray{N0f8}(0.0)  Gray{N0f8}(0.0)     Gray{N0f8}(0.0)  Gray{N0f8}(0.0)\n",
       " Gray{N0f8}(0.0)  Gray{N0f8}(0.0)     Gray{N0f8}(0.0)  Gray{N0f8}(0.0)\n",
       " Gray{N0f8}(0.0)  Gray{N0f8}(0.0)     Gray{N0f8}(0.0)  Gray{N0f8}(0.0)\n",
       " Gray{N0f8}(0.0)  Gray{N0f8}(0.0)     Gray{N0f8}(0.0)  Gray{N0f8}(0.0)\n",
       " Gray{N0f8}(0.0)  Gray{N0f8}(0.0)  …  Gray{N0f8}(0.0)  Gray{N0f8}(0.0)\n",
       " Gray{N0f8}(0.0)  Gray{N0f8}(0.0)     Gray{N0f8}(0.0)  Gray{N0f8}(0.0)\n",
       " Gray{N0f8}(0.0)  Gray{N0f8}(0.0)     Gray{N0f8}(0.0)  Gray{N0f8}(0.0)\n",
       " ⋮                                 ⋱                   \n",
       " Gray{N0f8}(0.0)  Gray{N0f8}(0.0)     Gray{N0f8}(0.0)  Gray{N0f8}(0.0)\n",
       " Gray{N0f8}(0.0)  Gray{N0f8}(0.0)     Gray{N0f8}(0.0)  Gray{N0f8}(0.0)\n",
       " Gray{N0f8}(0.0)  Gray{N0f8}(0.0)     Gray{N0f8}(0.0)  Gray{N0f8}(0.0)\n",
       " Gray{N0f8}(0.0)  Gray{N0f8}(0.0)     Gray{N0f8}(0.0)  Gray{N0f8}(0.0)\n",
       " Gray{N0f8}(0.0)  Gray{N0f8}(0.0)  …  Gray{N0f8}(0.0)  Gray{N0f8}(0.0)\n",
       " Gray{N0f8}(0.0)  Gray{N0f8}(0.0)     Gray{N0f8}(0.0)  Gray{N0f8}(0.0)\n",
       " Gray{N0f8}(0.0)  Gray{N0f8}(0.0)     Gray{N0f8}(0.0)  Gray{N0f8}(0.0)\n",
       " Gray{N0f8}(0.0)  Gray{N0f8}(0.0)     Gray{N0f8}(0.0)  Gray{N0f8}(0.0)\n",
       " Gray{N0f8}(0.0)  Gray{N0f8}(0.0)     Gray{N0f8}(0.0)  Gray{N0f8}(0.0)\n",
       " Gray{N0f8}(0.0)  Gray{N0f8}(0.0)  …  Gray{N0f8}(0.0)  Gray{N0f8}(0.0)\n",
       " Gray{N0f8}(0.0)  Gray{N0f8}(0.0)     Gray{N0f8}(0.0)  Gray{N0f8}(0.0)\n",
       " Gray{N0f8}(0.0)  Gray{N0f8}(0.0)     Gray{N0f8}(0.0)  Gray{N0f8}(0.0)"
      ]
     },
     "execution_count": 115,
     "metadata": {},
     "output_type": "execute_result"
    }
   ],
   "source": [
    "i = rand([x for x = 1:10000])\n",
    "show_test_example(NN, i, test_data)"
   ]
  },
  {
   "cell_type": "code",
   "execution_count": 118,
   "metadata": {},
   "outputs": [
    {
     "name": "stdout",
     "output_type": "stream",
     "text": [
      "Predicted Label: 4\n",
      "Actual Label: 6\n"
     ]
    },
    {
     "data": {
      "image/png": "[encoded data removed]",
      "text/plain": [
       "28×28 reinterpret(Gray{N0f8}, ::LinearAlgebra.Adjoint{Normed{UInt8,8},Array{Normed{UInt8,8},2}}):\n",
       " Gray{N0f8}(0.0)  Gray{N0f8}(0.0)  …  Gray{N0f8}(0.0)  Gray{N0f8}(0.0)\n",
       " Gray{N0f8}(0.0)  Gray{N0f8}(0.0)     Gray{N0f8}(0.0)  Gray{N0f8}(0.0)\n",
       " Gray{N0f8}(0.0)  Gray{N0f8}(0.0)     Gray{N0f8}(0.0)  Gray{N0f8}(0.0)\n",
       " Gray{N0f8}(0.0)  Gray{N0f8}(0.0)     Gray{N0f8}(0.0)  Gray{N0f8}(0.0)\n",
       " Gray{N0f8}(0.0)  Gray{N0f8}(0.0)     Gray{N0f8}(0.0)  Gray{N0f8}(0.0)\n",
       " Gray{N0f8}(0.0)  Gray{N0f8}(0.0)  …  Gray{N0f8}(0.0)  Gray{N0f8}(0.0)\n",
       " Gray{N0f8}(0.0)  Gray{N0f8}(0.0)     Gray{N0f8}(0.0)  Gray{N0f8}(0.0)\n",
       " Gray{N0f8}(0.0)  Gray{N0f8}(0.0)     Gray{N0f8}(0.0)  Gray{N0f8}(0.0)\n",
       " Gray{N0f8}(0.0)  Gray{N0f8}(0.0)     Gray{N0f8}(0.0)  Gray{N0f8}(0.0)\n",
       " Gray{N0f8}(0.0)  Gray{N0f8}(0.0)     Gray{N0f8}(0.0)  Gray{N0f8}(0.0)\n",
       " Gray{N0f8}(0.0)  Gray{N0f8}(0.0)  …  Gray{N0f8}(0.0)  Gray{N0f8}(0.0)\n",
       " Gray{N0f8}(0.0)  Gray{N0f8}(0.0)     Gray{N0f8}(0.0)  Gray{N0f8}(0.0)\n",
       " Gray{N0f8}(0.0)  Gray{N0f8}(0.0)     Gray{N0f8}(0.0)  Gray{N0f8}(0.0)\n",
       " ⋮                                 ⋱                   \n",
       " Gray{N0f8}(0.0)  Gray{N0f8}(0.0)     Gray{N0f8}(0.0)  Gray{N0f8}(0.0)\n",
       " Gray{N0f8}(0.0)  Gray{N0f8}(0.0)     Gray{N0f8}(0.0)  Gray{N0f8}(0.0)\n",
       " Gray{N0f8}(0.0)  Gray{N0f8}(0.0)     Gray{N0f8}(0.0)  Gray{N0f8}(0.0)\n",
       " Gray{N0f8}(0.0)  Gray{N0f8}(0.0)     Gray{N0f8}(0.0)  Gray{N0f8}(0.0)\n",
       " Gray{N0f8}(0.0)  Gray{N0f8}(0.0)  …  Gray{N0f8}(0.0)  Gray{N0f8}(0.0)\n",
       " Gray{N0f8}(0.0)  Gray{N0f8}(0.0)     Gray{N0f8}(0.0)  Gray{N0f8}(0.0)\n",
       " Gray{N0f8}(0.0)  Gray{N0f8}(0.0)     Gray{N0f8}(0.0)  Gray{N0f8}(0.0)\n",
       " Gray{N0f8}(0.0)  Gray{N0f8}(0.0)     Gray{N0f8}(0.0)  Gray{N0f8}(0.0)\n",
       " Gray{N0f8}(0.0)  Gray{N0f8}(0.0)     Gray{N0f8}(0.0)  Gray{N0f8}(0.0)\n",
       " Gray{N0f8}(0.0)  Gray{N0f8}(0.0)  …  Gray{N0f8}(0.0)  Gray{N0f8}(0.0)\n",
       " Gray{N0f8}(0.0)  Gray{N0f8}(0.0)     Gray{N0f8}(0.0)  Gray{N0f8}(0.0)\n",
       " Gray{N0f8}(0.0)  Gray{N0f8}(0.0)     Gray{N0f8}(0.0)  Gray{N0f8}(0.0)"
      ]
     },
     "execution_count": 118,
     "metadata": {},
     "output_type": "execute_result"
    }
   ],
   "source": [
    "i = rand([x for x = 1:10000])\n",
    "show_test_example(NN, i, test_data)"
   ]
  },
  {
   "cell_type": "code",
   "execution_count": null,
   "metadata": {},
   "outputs": [],
   "source": [
    "################## this is where he stopped. need to have plots.. "
   ]
  },
  {
   "cell_type": "code",
   "execution_count": 80,
   "metadata": {},
   "outputs": [
    {
     "data": {
      "text/plain": [
       "total_MSE (generic function with 1 method)"
      ]
     },
     "execution_count": 80,
     "metadata": {},
     "output_type": "execute_result"
    }
   ],
   "source": [
    "# Define the cost of a given output\n",
    "MSE(a, y) = (1/2)*sum((a[i] - y[i])^2 for i = 1:size(a)[1])\n",
    "\n",
    "# Define the total cost of a dataset with respect to weights and bias\n",
    "\n",
    "function total_MSE(W, b, labeled_data)\n",
    "    cost = 0.0\n",
    "    for i = 1:60000\n",
    "        Z, A = forward_pass(W, b, labeled_data[i])\n",
    "        cost += MSE(σ.(A[size(W)[1]]), labeled_data[i][2])\n",
    "    end\n",
    "    return cost/60000\n",
    "end"
   ]
  },
  {
   "cell_type": "code",
   "execution_count": null,
   "metadata": {},
   "outputs": [],
   "source": []
  },
  {
   "cell_type": "code",
   "execution_count": null,
   "metadata": {},
   "outputs": [],
   "source": []
  },
  {
   "cell_type": "code",
   "execution_count": null,
   "metadata": {},
   "outputs": [],
   "source": []
  },
  {
   "cell_type": "code",
   "execution_count": null,
   "metadata": {},
   "outputs": [],
   "source": []
  },
  {
   "cell_type": "code",
   "execution_count": null,
   "metadata": {},
   "outputs": [],
   "source": []
  },
  {
   "cell_type": "code",
   "execution_count": null,
   "metadata": {},
   "outputs": [],
   "source": []
  },
  {
   "cell_type": "code",
   "execution_count": null,
   "metadata": {},
   "outputs": [],
   "source": []
  },
  {
   "cell_type": "code",
   "execution_count": null,
   "metadata": {},
   "outputs": [],
   "source": []
  },
  {
   "cell_type": "code",
   "execution_count": null,
   "metadata": {},
   "outputs": [],
   "source": []
  },
  {
   "cell_type": "code",
   "execution_count": null,
   "metadata": {},
   "outputs": [],
   "source": []
  },
  {
   "cell_type": "code",
   "execution_count": null,
   "metadata": {},
   "outputs": [],
   "source": []
  },
  {
   "cell_type": "code",
   "execution_count": null,
   "metadata": {},
   "outputs": [],
   "source": []
  },
  {
   "cell_type": "code",
   "execution_count": 119,
   "metadata": {},
   "outputs": [
    {
     "data": {
      "text/plain": [
       "3-element Array{Tuple{Int64,Int64},1}:\n",
       " (10, 1)\n",
       " (1, 2)\n",
       " (3, 4)"
      ]
     },
     "execution_count": 119,
     "metadata": {},
     "output_type": "execute_result"
    }
   ],
   "source": [
    "L = [(1, 2), (3, 4), (10, 1)]\n",
    "sort!(L, by = x -> x[2])"
   ]
  },
  {
   "cell_type": "code",
   "execution_count": 120,
   "metadata": {},
   "outputs": [
    {
     "data": {
      "text/plain": [
       "4-element Array{Int64,1}:\n",
       " 3\n",
       " 4\n",
       " 6\n",
       " 7"
      ]
     },
     "execution_count": 120,
     "metadata": {},
     "output_type": "execute_result"
    }
   ],
   "source": [
    "A = [1, 2, 3, 4]\n",
    "B = [3, 4, 6, 7]"
   ]
  },
  {
   "cell_type": "code",
   "execution_count": 121,
   "metadata": {},
   "outputs": [
    {
     "data": {
      "text/plain": [
       "4-element Array{Tuple{Int64,Int64},1}:\n",
       " (1, 3)\n",
       " (2, 4)\n",
       " (3, 6)\n",
       " (4, 7)"
      ]
     },
     "execution_count": 121,
     "metadata": {},
     "output_type": "execute_result"
    }
   ],
   "source": [
    "data = [p for p in zip(A, B)]"
   ]
  },
  {
   "cell_type": "code",
   "execution_count": 122,
   "metadata": {},
   "outputs": [
    {
     "data": {
      "image/svg+xml": [
       "<?xml version=\"1.0\" encoding=\"utf-8\"?>\n",
       "<svg xmlns=\"http://www.w3.org/2000/svg\" xmlns:xlink=\"http://www.w3.org/1999/xlink\" width=\"600\" height=\"400\" viewBox=\"0 0 2400 1600\">\n",
       "<defs>\n",
       "  <clipPath id=\"clip530\">\n",
       "    <rect x=\"0\" y=\"0\" width=\"2400\" height=\"1600\"/>\n",
       "  </clipPath>\n",
       "</defs>\n",
       "<path clip-path=\"url(#clip530)\" d=\"\n",
       "M0 1600 L2400 1600 L2400 0 L0 0  Z\n",
       "  \" fill=\"#ffffff\" fill-rule=\"evenodd\" fill-opacity=\"1\"/>\n",
       "<defs>\n",
       "  <clipPath id=\"clip531\">\n",
       "    <rect x=\"480\" y=\"0\" width=\"1681\" height=\"1600\"/>\n",
       "  </clipPath>\n",
       "</defs>\n",
       "<path clip-path=\"url(#clip530)\" d=\"\n",
       "M112.177 1486.45 L2352.76 1486.45 L2352.76 47.2441 L112.177 47.2441  Z\n",
       "  \" fill=\"#ffffff\" fill-rule=\"evenodd\" fill-opacity=\"1\"/>\n",
       "<defs>\n",
       "  <clipPath id=\"clip532\">\n",
       "    <rect x=\"112\" y=\"47\" width=\"2242\" height=\"1440\"/>\n",
       "  </clipPath>\n",
       "</defs>\n",
       "<polyline clip-path=\"url(#clip532)\" style=\"stroke:#000000; stroke-width:2; stroke-opacity:0.1; fill:none\" points=\"\n",
       "  175.59,1486.45 175.59,47.2441 \n",
       "  \"/>\n",
       "<polyline clip-path=\"url(#clip532)\" style=\"stroke:#000000; stroke-width:2; stroke-opacity:0.1; fill:none\" points=\"\n",
       "  880.174,1486.45 880.174,47.2441 \n",
       "  \"/>\n",
       "<polyline clip-path=\"url(#clip532)\" style=\"stroke:#000000; stroke-width:2; stroke-opacity:0.1; fill:none\" points=\"\n",
       "  1584.76,1486.45 1584.76,47.2441 \n",
       "  \"/>\n",
       "<polyline clip-path=\"url(#clip532)\" style=\"stroke:#000000; stroke-width:2; stroke-opacity:0.1; fill:none\" points=\"\n",
       "  2289.34,1486.45 2289.34,47.2441 \n",
       "  \"/>\n",
       "<polyline clip-path=\"url(#clip530)\" style=\"stroke:#000000; stroke-width:4; stroke-opacity:1; fill:none\" points=\"\n",
       "  112.177,1486.45 2352.76,1486.45 \n",
       "  \"/>\n",
       "<polyline clip-path=\"url(#clip530)\" style=\"stroke:#000000; stroke-width:4; stroke-opacity:1; fill:none\" points=\"\n",
       "  175.59,1486.45 175.59,1469.18 \n",
       "  \"/>\n",
       "<polyline clip-path=\"url(#clip530)\" style=\"stroke:#000000; stroke-width:4; stroke-opacity:1; fill:none\" points=\"\n",
       "  880.174,1486.45 880.174,1469.18 \n",
       "  \"/>\n",
       "<polyline clip-path=\"url(#clip530)\" style=\"stroke:#000000; stroke-width:4; stroke-opacity:1; fill:none\" points=\"\n",
       "  1584.76,1486.45 1584.76,1469.18 \n",
       "  \"/>\n",
       "<polyline clip-path=\"url(#clip530)\" style=\"stroke:#000000; stroke-width:4; stroke-opacity:1; fill:none\" points=\"\n",
       "  2289.34,1486.45 2289.34,1469.18 \n",
       "  \"/>\n",
       "<path clip-path=\"url(#clip530)\" d=\"M 0 0 M165.972 1543.18 L173.611 1543.18 L173.611 1516.82 L165.3 1518.49 L165.3 1514.23 L173.564 1512.56 L178.24 1512.56 L178.24 1543.18 L185.879 1543.18 L185.879 1547.12 L165.972 1547.12 L165.972 1543.18 Z\" fill=\"#000000\" fill-rule=\"evenodd\" fill-opacity=\"1\" /><path clip-path=\"url(#clip530)\" d=\"M 0 0 M874.827 1543.18 L891.146 1543.18 L891.146 1547.12 L869.202 1547.12 L869.202 1543.18 Q871.864 1540.43 876.447 1535.8 Q881.054 1531.15 882.234 1529.81 Q884.48 1527.28 885.359 1525.55 Q886.262 1523.79 886.262 1522.1 Q886.262 1519.34 884.318 1517.61 Q882.396 1515.87 879.295 1515.87 Q877.096 1515.87 874.642 1516.63 Q872.211 1517.4 869.434 1518.95 L869.434 1514.23 Q872.258 1513.09 874.711 1512.51 Q877.165 1511.93 879.202 1511.93 Q884.572 1511.93 887.767 1514.62 Q890.961 1517.31 890.961 1521.8 Q890.961 1523.93 890.151 1525.85 Q889.364 1527.74 887.258 1530.34 Q886.679 1531.01 883.577 1534.23 Q880.475 1537.42 874.827 1543.18 Z\" fill=\"#000000\" fill-rule=\"evenodd\" fill-opacity=\"1\" /><path clip-path=\"url(#clip530)\" d=\"M 0 0 M1589.01 1528.49 Q1592.36 1529.2 1594.24 1531.47 Q1596.14 1533.74 1596.14 1537.07 Q1596.14 1542.19 1592.62 1544.99 Q1589.1 1547.79 1582.62 1547.79 Q1580.44 1547.79 1578.13 1547.35 Q1575.84 1546.93 1573.38 1546.08 L1573.38 1541.56 Q1575.33 1542.7 1577.64 1543.28 Q1579.96 1543.86 1582.48 1543.86 Q1586.88 1543.86 1589.17 1542.12 Q1591.48 1540.38 1591.48 1537.07 Q1591.48 1534.02 1589.33 1532.31 Q1587.2 1530.57 1583.38 1530.57 L1579.35 1530.57 L1579.35 1526.73 L1583.57 1526.73 Q1587.02 1526.73 1588.84 1525.36 Q1590.67 1523.97 1590.67 1521.38 Q1590.67 1518.72 1588.77 1517.31 Q1586.9 1515.87 1583.38 1515.87 Q1581.46 1515.87 1579.26 1516.29 Q1577.06 1516.7 1574.42 1517.58 L1574.42 1513.42 Q1577.09 1512.68 1579.4 1512.31 Q1581.74 1511.93 1583.8 1511.93 Q1589.12 1511.93 1592.22 1514.37 Q1595.33 1516.77 1595.33 1520.89 Q1595.33 1523.76 1593.68 1525.75 Q1592.04 1527.72 1589.01 1528.49 Z\" fill=\"#000000\" fill-rule=\"evenodd\" fill-opacity=\"1\" /><path clip-path=\"url(#clip530)\" d=\"M 0 0 M2292.35 1516.63 L2280.55 1535.08 L2292.35 1535.08 L2292.35 1516.63 M2291.13 1512.56 L2297.01 1512.56 L2297.01 1535.08 L2301.94 1535.08 L2301.94 1538.97 L2297.01 1538.97 L2297.01 1547.12 L2292.35 1547.12 L2292.35 1538.97 L2276.75 1538.97 L2276.75 1534.46 L2291.13 1512.56 Z\" fill=\"#000000\" fill-rule=\"evenodd\" fill-opacity=\"1\" /><polyline clip-path=\"url(#clip532)\" style=\"stroke:#000000; stroke-width:2; stroke-opacity:0.1; fill:none\" points=\"\n",
       "  112.177,1445.72 2352.76,1445.72 \n",
       "  \"/>\n",
       "<polyline clip-path=\"url(#clip532)\" style=\"stroke:#000000; stroke-width:2; stroke-opacity:0.1; fill:none\" points=\"\n",
       "  112.177,1106.28 2352.76,1106.28 \n",
       "  \"/>\n",
       "<polyline clip-path=\"url(#clip532)\" style=\"stroke:#000000; stroke-width:2; stroke-opacity:0.1; fill:none\" points=\"\n",
       "  112.177,766.846 2352.76,766.846 \n",
       "  \"/>\n",
       "<polyline clip-path=\"url(#clip532)\" style=\"stroke:#000000; stroke-width:2; stroke-opacity:0.1; fill:none\" points=\"\n",
       "  112.177,427.411 2352.76,427.411 \n",
       "  \"/>\n",
       "<polyline clip-path=\"url(#clip532)\" style=\"stroke:#000000; stroke-width:2; stroke-opacity:0.1; fill:none\" points=\"\n",
       "  112.177,87.9763 2352.76,87.9763 \n",
       "  \"/>\n",
       "<polyline clip-path=\"url(#clip530)\" style=\"stroke:#000000; stroke-width:4; stroke-opacity:1; fill:none\" points=\"\n",
       "  112.177,1486.45 112.177,47.2441 \n",
       "  \"/>\n",
       "<polyline clip-path=\"url(#clip530)\" style=\"stroke:#000000; stroke-width:4; stroke-opacity:1; fill:none\" points=\"\n",
       "  112.177,1445.72 139.064,1445.72 \n",
       "  \"/>\n",
       "<polyline clip-path=\"url(#clip530)\" style=\"stroke:#000000; stroke-width:4; stroke-opacity:1; fill:none\" points=\"\n",
       "  112.177,1106.28 139.064,1106.28 \n",
       "  \"/>\n",
       "<polyline clip-path=\"url(#clip530)\" style=\"stroke:#000000; stroke-width:4; stroke-opacity:1; fill:none\" points=\"\n",
       "  112.177,766.846 139.064,766.846 \n",
       "  \"/>\n",
       "<polyline clip-path=\"url(#clip530)\" style=\"stroke:#000000; stroke-width:4; stroke-opacity:1; fill:none\" points=\"\n",
       "  112.177,427.411 139.064,427.411 \n",
       "  \"/>\n",
       "<polyline clip-path=\"url(#clip530)\" style=\"stroke:#000000; stroke-width:4; stroke-opacity:1; fill:none\" points=\"\n",
       "  112.177,87.9763 139.064,87.9763 \n",
       "  \"/>\n",
       "<path clip-path=\"url(#clip530)\" d=\"M 0 0 M69.0476 1444.36 Q72.404 1445.08 74.279 1447.35 Q76.1772 1449.62 76.1772 1452.95 Q76.1772 1458.07 72.6587 1460.87 Q69.1402 1463.67 62.6587 1463.67 Q60.4828 1463.67 58.168 1463.23 Q55.8764 1462.81 53.4227 1461.95 L53.4227 1457.44 Q55.3671 1458.57 57.6819 1459.15 Q59.9967 1459.73 62.5198 1459.73 Q66.918 1459.73 69.2096 1458 Q71.5244 1456.26 71.5244 1452.95 Q71.5244 1449.89 69.3717 1448.18 Q67.242 1446.44 63.4226 1446.44 L59.3949 1446.44 L59.3949 1442.6 L63.6078 1442.6 Q67.0569 1442.6 68.8855 1441.24 Q70.7142 1439.85 70.7142 1437.26 Q70.7142 1434.59 68.8161 1433.18 Q66.9411 1431.75 63.4226 1431.75 Q61.5013 1431.75 59.3023 1432.16 Q57.1032 1432.58 54.4643 1433.46 L54.4643 1429.29 Q57.1264 1428.55 59.4412 1428.18 Q61.7791 1427.81 63.8393 1427.81 Q69.1633 1427.81 72.2652 1430.24 Q75.367 1432.65 75.367 1436.77 Q75.367 1439.64 73.7235 1441.63 Q72.08 1443.6 69.0476 1444.36 Z\" fill=\"#000000\" fill-rule=\"evenodd\" fill-opacity=\"1\" /><path clip-path=\"url(#clip530)\" d=\"M 0 0 M66.5939 1093.07 L54.7884 1111.52 L66.5939 1111.52 L66.5939 1093.07 M65.367 1089 L71.2466 1089 L71.2466 1111.52 L76.1772 1111.52 L76.1772 1115.41 L71.2466 1115.41 L71.2466 1123.56 L66.5939 1123.56 L66.5939 1115.41 L50.9921 1115.41 L50.9921 1110.9 L65.367 1089 Z\" fill=\"#000000\" fill-rule=\"evenodd\" fill-opacity=\"1\" /><path clip-path=\"url(#clip530)\" d=\"M 0 0 M55.2745 749.566 L73.6309 749.566 L73.6309 753.501 L59.5569 753.501 L59.5569 761.973 Q60.5754 761.626 61.5939 761.464 Q62.6124 761.279 63.6309 761.279 Q69.418 761.279 72.7976 764.45 Q76.1772 767.621 76.1772 773.038 Q76.1772 778.617 72.705 781.719 Q69.2328 784.797 62.9134 784.797 Q60.7374 784.797 58.4689 784.427 Q56.2236 784.057 53.8162 783.316 L53.8162 778.617 Q55.8995 779.751 58.1217 780.307 Q60.3439 780.862 62.8208 780.862 Q66.8254 780.862 69.1633 778.756 Q71.5013 776.649 71.5013 773.038 Q71.5013 769.427 69.1633 767.321 Q66.8254 765.214 62.8208 765.214 Q60.9458 765.214 59.0708 765.631 Q57.2189 766.047 55.2745 766.927 L55.2745 749.566 Z\" fill=\"#000000\" fill-rule=\"evenodd\" fill-opacity=\"1\" /><path clip-path=\"url(#clip530)\" d=\"M 0 0 M64.6495 425.548 Q61.5013 425.548 59.6495 427.7 Q57.8208 429.853 57.8208 433.603 Q57.8208 437.33 59.6495 439.506 Q61.5013 441.659 64.6495 441.659 Q67.7976 441.659 69.6263 439.506 Q71.4781 437.33 71.4781 433.603 Q71.4781 429.853 69.6263 427.7 Q67.7976 425.548 64.6495 425.548 M73.9318 410.895 L73.9318 415.154 Q72.1726 414.321 70.367 413.881 Q68.5846 413.441 66.8254 413.441 Q62.1958 413.441 59.7421 416.566 Q57.3115 419.691 56.9643 426.011 Q58.33 423.997 60.3902 422.932 Q62.4504 421.844 64.9272 421.844 Q70.1355 421.844 73.1448 425.015 Q76.1772 428.163 76.1772 433.603 Q76.1772 438.927 73.029 442.145 Q69.8809 445.362 64.6495 445.362 Q58.6541 445.362 55.4828 440.779 Q52.3116 436.173 52.3116 427.446 Q52.3116 419.251 56.2004 414.39 Q60.0893 409.506 66.6402 409.506 Q68.3994 409.506 70.1818 409.853 Q71.9874 410.201 73.9318 410.895 Z\" fill=\"#000000\" fill-rule=\"evenodd\" fill-opacity=\"1\" /><path clip-path=\"url(#clip530)\" d=\"M 0 0 M53.9551 70.6963 L76.1772 70.6963 L76.1772 72.687 L63.6309 105.256 L58.7467 105.256 L70.5522 74.6314 L53.9551 74.6314 L53.9551 70.6963 Z\" fill=\"#000000\" fill-rule=\"evenodd\" fill-opacity=\"1\" /><polyline clip-path=\"url(#clip532)\" style=\"stroke:#009af9; stroke-width:4; stroke-opacity:1; fill:none\" points=\"\n",
       "  175.59,1445.72 880.174,1106.28 1584.76,427.411 2289.34,87.9763 \n",
       "  \"/>\n",
       "<circle clip-path=\"url(#clip532)\" cx=\"175.59\" cy=\"1445.72\" r=\"14\" fill=\"#e26f46\" fill-rule=\"evenodd\" fill-opacity=\"1\" stroke=\"#000000\" stroke-opacity=\"1\" stroke-width=\"3.2\"/>\n",
       "<circle clip-path=\"url(#clip532)\" cx=\"880.174\" cy=\"1106.28\" r=\"14\" fill=\"#e26f46\" fill-rule=\"evenodd\" fill-opacity=\"1\" stroke=\"#000000\" stroke-opacity=\"1\" stroke-width=\"3.2\"/>\n",
       "<circle clip-path=\"url(#clip532)\" cx=\"1584.76\" cy=\"427.411\" r=\"14\" fill=\"#e26f46\" fill-rule=\"evenodd\" fill-opacity=\"1\" stroke=\"#000000\" stroke-opacity=\"1\" stroke-width=\"3.2\"/>\n",
       "<circle clip-path=\"url(#clip532)\" cx=\"2289.34\" cy=\"87.9763\" r=\"14\" fill=\"#e26f46\" fill-rule=\"evenodd\" fill-opacity=\"1\" stroke=\"#000000\" stroke-opacity=\"1\" stroke-width=\"3.2\"/>\n",
       "<path clip-path=\"url(#clip530)\" d=\"\n",
       "M1978.1 276.658 L2278.07 276.658 L2278.07 95.2176 L1978.1 95.2176  Z\n",
       "  \" fill=\"#ffffff\" fill-rule=\"evenodd\" fill-opacity=\"1\"/>\n",
       "<polyline clip-path=\"url(#clip530)\" style=\"stroke:#000000; stroke-width:4; stroke-opacity:1; fill:none\" points=\"\n",
       "  1978.1,276.658 2278.07,276.658 2278.07,95.2176 1978.1,95.2176 1978.1,276.658 \n",
       "  \"/>\n",
       "<polyline clip-path=\"url(#clip530)\" style=\"stroke:#009af9; stroke-width:4; stroke-opacity:1; fill:none\" points=\"\n",
       "  2002.99,155.698 2152.37,155.698 \n",
       "  \"/>\n",
       "<path clip-path=\"url(#clip530)\" d=\"M 0 0 M2191.1 175.385 Q2189.3 180.015 2187.59 181.427 Q2185.87 182.839 2183 182.839 L2179.6 182.839 L2179.6 179.274 L2182.1 179.274 Q2183.86 179.274 2184.83 178.44 Q2185.8 177.607 2186.98 174.505 L2187.75 172.561 L2177.26 147.052 L2181.77 147.052 L2189.88 167.329 L2197.98 147.052 L2202.49 147.052 L2191.1 175.385 Z\" fill=\"#000000\" fill-rule=\"evenodd\" fill-opacity=\"1\" /><path clip-path=\"url(#clip530)\" d=\"M 0 0 M2208.37 169.042 L2216.01 169.042 L2216.01 142.677 L2207.7 144.343 L2207.7 140.084 L2215.96 138.418 L2220.64 138.418 L2220.64 169.042 L2228.28 169.042 L2228.28 172.978 L2208.37 172.978 L2208.37 169.042 Z\" fill=\"#000000\" fill-rule=\"evenodd\" fill-opacity=\"1\" /><circle clip-path=\"url(#clip530)\" cx=\"2077.68\" cy=\"216.178\" r=\"23\" fill=\"#e26f46\" fill-rule=\"evenodd\" fill-opacity=\"1\" stroke=\"#000000\" stroke-opacity=\"1\" stroke-width=\"5.12\"/>\n",
       "<path clip-path=\"url(#clip530)\" d=\"M 0 0 M2191.1 235.865 Q2189.3 240.495 2187.59 241.907 Q2185.87 243.319 2183 243.319 L2179.6 243.319 L2179.6 239.754 L2182.1 239.754 Q2183.86 239.754 2184.83 238.92 Q2185.8 238.087 2186.98 234.985 L2187.75 233.041 L2177.26 207.532 L2181.77 207.532 L2189.88 227.809 L2197.98 207.532 L2202.49 207.532 L2191.1 235.865 Z\" fill=\"#000000\" fill-rule=\"evenodd\" fill-opacity=\"1\" /><path clip-path=\"url(#clip530)\" d=\"M 0 0 M2211.59 229.522 L2227.91 229.522 L2227.91 233.458 L2205.96 233.458 L2205.96 229.522 Q2208.63 226.768 2213.21 222.138 Q2217.82 217.485 2219 216.143 Q2221.24 213.62 2222.12 211.884 Q2223.02 210.124 2223.02 208.435 Q2223.02 205.68 2221.08 203.944 Q2219.16 202.208 2216.06 202.208 Q2213.86 202.208 2211.4 202.972 Q2208.97 203.735 2206.2 205.286 L2206.2 200.564 Q2209.02 199.43 2211.47 198.851 Q2213.93 198.273 2215.96 198.273 Q2221.33 198.273 2224.53 200.958 Q2227.72 203.643 2227.72 208.134 Q2227.72 210.263 2226.91 212.185 Q2226.13 214.083 2224.02 216.675 Q2223.44 217.347 2220.34 220.564 Q2217.24 223.759 2211.59 229.522 Z\" fill=\"#000000\" fill-rule=\"evenodd\" fill-opacity=\"1\" /></svg>\n"
      ]
     },
     "execution_count": 122,
     "metadata": {},
     "output_type": "execute_result"
    }
   ],
   "source": [
    "plot(data)\n",
    "scatter!(data)"
   ]
  },
  {
   "cell_type": "code",
   "execution_count": 123,
   "metadata": {},
   "outputs": [
    {
     "data": {
      "text/plain": [
       "4-element Array{Tuple{Int64,Int64},1}:\n",
       " (1, 3)\n",
       " (2, 4)\n",
       " (3, 6)\n",
       " (4, 7)"
      ]
     },
     "execution_count": 123,
     "metadata": {},
     "output_type": "execute_result"
    }
   ],
   "source": [
    "data"
   ]
  },
  {
   "cell_type": "code",
   "execution_count": 124,
   "metadata": {},
   "outputs": [
    {
     "data": {
      "text/plain": [
       "zip([(1, 3), (2, 4), (3, 6), (4, 7)])"
      ]
     },
     "execution_count": 124,
     "metadata": {},
     "output_type": "execute_result"
    }
   ],
   "source": [
    "zip(data)"
   ]
  },
  {
   "cell_type": "code",
   "execution_count": 125,
   "metadata": {},
   "outputs": [
    {
     "name": "stdout",
     "output_type": "stream",
     "text": [
      "((1, 3),)\n",
      "((2, 4),)\n",
      "((3, 6),)\n",
      "((4, 7),)\n"
     ]
    }
   ],
   "source": [
    "for x in zip(p for p in data)\n",
    "    println(x)\n",
    "end"
   ]
  },
  {
   "cell_type": "code",
   "execution_count": 126,
   "metadata": {},
   "outputs": [
    {
     "data": {
      "text/plain": [
       "(1, 3)"
      ]
     },
     "execution_count": 126,
     "metadata": {},
     "output_type": "execute_result"
    }
   ],
   "source": [
    "data[1]"
   ]
  },
  {
   "cell_type": "code",
   "execution_count": null,
   "metadata": {},
   "outputs": [],
   "source": [
    "X = [zip(A, B)]"
   ]
  },
  {
   "cell_type": "code",
   "execution_count": null,
   "metadata": {},
   "outputs": [],
   "source": [
    "X"
   ]
  },
  {
   "cell_type": "code",
   "execution_count": 127,
   "metadata": {},
   "outputs": [
    {
     "data": {
      "text/plain": [
       "Base.KeySet for a Dict{Any,Any} with 10 entries. Keys:\n",
       "  7\n",
       "  4\n",
       "  9\n",
       "  10\n",
       "  2\n",
       "  3\n",
       "  5\n",
       "  8\n",
       "  6\n",
       "  1"
      ]
     },
     "execution_count": 127,
     "metadata": {},
     "output_type": "execute_result"
    }
   ],
   "source": [
    "d = Dict()\n",
    "for x = 1:10\n",
    "    d[x] = x+ 1\n",
    "end\n",
    "\n",
    "keys(d)"
   ]
  },
  {
   "cell_type": "code",
   "execution_count": 128,
   "metadata": {},
   "outputs": [
    {
     "data": {
      "text/plain": [
       "add_my_object (generic function with 1 method)"
      ]
     },
     "execution_count": 128,
     "metadata": {},
     "output_type": "execute_result"
    }
   ],
   "source": [
    "mutable struct my_object\n",
    "    a::Int64\n",
    "    b::Int64\n",
    "end\n",
    "\n",
    "function add_my_object(o::my_object)\n",
    "    return o.a + o.b\n",
    "end"
   ]
  },
  {
   "cell_type": "code",
   "execution_count": 129,
   "metadata": {},
   "outputs": [
    {
     "data": {
      "text/plain": [
       "15"
      ]
     },
     "execution_count": 129,
     "metadata": {},
     "output_type": "execute_result"
    }
   ],
   "source": [
    "m = my_object(10, 5)\n",
    "add_my_object(m)"
   ]
  },
  {
   "cell_type": "code",
   "execution_count": null,
   "metadata": {},
   "outputs": [],
   "source": []
  }
 ],
 "metadata": {
  "kernelspec": {
   "display_name": "Julia 1.5.3",
   "language": "julia",
   "name": "julia-1.5"
  },
  "language_info": {
   "file_extension": ".jl",
   "mimetype": "application/julia",
   "name": "julia",
   "version": "1.5.3"
  }
 },
 "nbformat": 4,
 "nbformat_minor": 4
}
