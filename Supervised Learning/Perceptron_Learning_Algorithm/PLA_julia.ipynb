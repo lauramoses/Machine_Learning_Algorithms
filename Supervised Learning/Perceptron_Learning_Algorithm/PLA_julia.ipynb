{
 "cells": [
  {
   "cell_type": "markdown",
   "metadata": {},
   "source": [
    "# The Perceptron Algorithm (PLA)"
   ]
  },
  {
   "cell_type": "markdown",
   "metadata": {},
   "source": [
    "Suppose $X \\subseteq \\mathbb{R}^2$ and $Y=\\{1,-1\\}$.\n",
    "1. Initialize $\\bar w \\in \\mathbb{R}^3$ randomly\n",
    "1. For each $(x,y) \\in D$\n",
    "    1. Form $\\bar x = [1.0, x_1, x_2]^T$\n",
    "    1. If $sign(\\bar w^T \\bar x) \\neq y$, update $\\bar w$ with $\\bar w \\to \\bar w + y \\bar x$    \n",
    "If $epoch=k$, repeat Step 2 $k$ times.\n",
    "1. Output is $g(x)=sign(\\bar w^T \\bar x)$ where $g(x)$ is the final hypothesis $\\approx f$ the target function"
   ]
  },
  {
   "cell_type": "code",
   "execution_count": null,
   "metadata": {},
   "outputs": [],
   "source": [
    "# import/load necessary packages\n",
    "#import Pkg; Pkg.add(\"RDatasets\")\n",
    "#import Pkg; Pkg.add(\"Plots\")\n",
    "using RDatasets\n",
    "using Plots"
   ]
  },
  {
   "cell_type": "code",
   "execution_count": null,
   "metadata": {},
   "outputs": [],
   "source": [
    "# access iris dataset \n",
    "iris = dataset(\"datasets\", \"iris\")\n",
    "\n",
    "# Pull the setosa and versicolor data \n",
    "x_data = [x for x in zip(iris.SepalLength[1:100], iris.SepalWidth[1:100])]\n",
    "\n",
    "# Assign 1 for setosa or -1 for versicolor\n",
    "y_data = [y == \"setosa\" ? 1 : -1 for y in iris.Species[1:100]]\n",
    "\n",
    "# plotting setosa \n",
    "scatter(x_data[1:50],\n",
    "        label = \"Setosa\",\n",
    "        color = \"blue\",\n",
    "        xaxis = \"Sepal Length\",\n",
    "        yaxis = \"Sepal Width\",\n",
    "        title = \"Iris Data: Setosa and Versicolor\")\n",
    "\n",
    "# plotting versicolor \n",
    "scatter!(x_data[51:100],\n",
    "        label = \"Versicolor\",\n",
    "        color = \"red\")"
   ]
  },
  {
   "cell_type": "code",
   "execution_count": null,
   "metadata": {},
   "outputs": [],
   "source": [
    "# Data exploration\n",
    "#iris.Species[1:50] # setosa\n",
    "#iris.Species[51:100] # versicolor"
   ]
  },
  {
   "cell_type": "code",
   "execution_count": null,
   "metadata": {},
   "outputs": [],
   "source": [
    "# define sign function \n",
    "function sign(weights, x)\n",
    "    x̄ = [1.0, x[1], x[2]]\n",
    "    return weights'x̄ > 0 ? 1 : -1\n",
    "end"
   ]
  },
  {
   "cell_type": "code",
   "execution_count": null,
   "metadata": {},
   "outputs": [],
   "source": [
    "# define perceptron update rule function \n",
    "function perceptron_update_rule(weights, x, y)\n",
    "    if sign(weights, x) != y\n",
    "        weights += y*[1.0, x[1], x[2]]\n",
    "    end\n",
    "    \n",
    "    return weights\n",
    "end "
   ]
  },
  {
   "cell_type": "code",
   "execution_count": null,
   "metadata": {},
   "outputs": [],
   "source": [
    "# define PLA function \n",
    "function PLA(X, Y; epochs = 1000)\n",
    "    w = randn(3)\n",
    "    \n",
    "    counter = 1\n",
    "    while counter  < epochs\n",
    "        for i = 1:length(X)\n",
    "            w = perceptron_update_rule(w, X[i], Y[i])\n",
    "        end\n",
    "        counter += 1\n",
    "    end\n",
    "    \n",
    "    return w\n",
    "end"
   ]
  },
  {
   "cell_type": "code",
   "execution_count": null,
   "metadata": {},
   "outputs": [],
   "source": [
    "w = PLA(x_data, y_data; epochs = 1000) # choose epochs = 1000 for more accuracy"
   ]
  },
  {
   "cell_type": "code",
   "execution_count": null,
   "metadata": {},
   "outputs": [],
   "source": [
    "plot!([(x,(-w[2]*x - w[1]) / w[3]) for x = 4:7],\n",
    "        label = \"Learned split 1000\")"
   ]
  },
  {
   "cell_type": "code",
   "execution_count": null,
   "metadata": {},
   "outputs": [],
   "source": [
    "function predictor(weights, x)\n",
    "    return sign(weights, x) == 1 ? \"setosa\" : \"versicolor\"\n",
    "end"
   ]
  },
  {
   "cell_type": "code",
   "execution_count": null,
   "metadata": {},
   "outputs": [],
   "source": [
    "k = rand(1:100)\n",
    "println(\"Flower #\", k)\n",
    "println(\"The true label is: \", iris.Species[k])\n",
    "println(\"The predicted label is: \", predictor(w, (iris.SepalLength[k], iris.SepalWidth[k])))"
   ]
  }
 ],
 "metadata": {
  "kernelspec": {
   "display_name": "Julia 1.5.3",
   "language": "julia",
   "name": "julia-1.5"
  },
  "language_info": {
   "file_extension": ".jl",
   "mimetype": "application/julia",
   "name": "julia",
   "version": "1.5.3"
  }
 },
 "nbformat": 4,
 "nbformat_minor": 4
}
